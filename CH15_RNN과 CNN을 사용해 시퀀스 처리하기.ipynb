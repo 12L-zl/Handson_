{
 "cells": [
  {
   "cell_type": "markdown",
   "id": "5ab556bd",
   "metadata": {},
   "source": [
    "### 시계열 예측하기"
   ]
  },
  {
   "cell_type": "code",
   "execution_count": 12,
   "id": "9bae0551",
   "metadata": {},
   "outputs": [
    {
     "name": "stderr",
     "output_type": "stream",
     "text": [
      "C:\\Users\\knuyh\\anaconda3\\Lib\\site-packages\\pandas\\core\\arrays\\masked.py:60: UserWarning: Pandas requires version '1.3.6' or newer of 'bottleneck' (version '1.3.5' currently installed).\n",
      "  from pandas.core import (\n"
     ]
    }
   ],
   "source": [
    "import numpy as np\n",
    "from tensorflow import keras\n",
    "import tensorflow as tf"
   ]
  },
  {
   "cell_type": "code",
   "execution_count": 4,
   "id": "db4a66c3",
   "metadata": {},
   "outputs": [],
   "source": [
    "def generate_time_series(batch_size, n_steps) : # 단변량\n",
    "    freq1, freq2, offsets1, offsets2 = np.random.rand(4, batch_size, 1)\n",
    "    time = np.linspace(0, 1, n_steps)\n",
    "    series = 0.5 * np.sin((time - offsets1) * (freq1 * 10 + 10)) # 사인 곡선1\n",
    "    series += 0.2 * np.sin((time - offsets2) * (freq2 * 20 + 20)) # +사인 곡선2\n",
    "    series += 0.1 * (np.random.rand(batch_size, n_steps) - 0.5) # +잡읍\n",
    "    return series[..., np.newaxis].astype(np.float32) # (배치크기, 타임스텝수, 1) 크기 반환"
   ]
  },
  {
   "cell_type": "code",
   "execution_count": 81,
   "id": "9619124d",
   "metadata": {},
   "outputs": [],
   "source": [
    "n_steps = 50\n",
    "series = generate_time_series(10000, n_steps + 1)\n",
    "X_train, y_train = series[:7000, :n_steps], series[:7000, -1]\n",
    "X_valid, y_valid = series[7000:9000, :n_steps], series[7000:9000, -1]\n",
    "X_test, y_test = series[9000:, :n_steps], series[9000:, -1]"
   ]
  },
  {
   "cell_type": "code",
   "execution_count": 82,
   "id": "bd7cb600",
   "metadata": {},
   "outputs": [
    {
     "data": {
      "text/plain": [
       "((7000, 50, 1), (7000, 1))"
      ]
     },
     "execution_count": 82,
     "metadata": {},
     "output_type": "execute_result"
    }
   ],
   "source": [
    "X_train.shape, y_train.shape"
   ]
  },
  {
   "cell_type": "code",
   "execution_count": 23,
   "id": "74dde9d7",
   "metadata": {},
   "outputs": [
    {
     "data": {
      "text/plain": [
       "0.020684227"
      ]
     },
     "execution_count": 23,
     "metadata": {},
     "output_type": "execute_result"
    }
   ],
   "source": [
    "# 기준 성능 - 순진한 예측 : 각 시계열의 마지막 값 그대로 예측\n",
    "y_pred = X_valid[:, -1] # (2000, 1)\n",
    "np.mean(keras.losses.mean_squared_error(y_valid, y_pred))"
   ]
  },
  {
   "cell_type": "code",
   "execution_count": 14,
   "id": "467de070",
   "metadata": {
    "collapsed": true
   },
   "outputs": [
    {
     "name": "stdout",
     "output_type": "stream",
     "text": [
      "Epoch 1/20\n",
      "219/219 [==============================] - 9s 20ms/step - loss: 0.1056 - val_loss: 0.0453\n",
      "Epoch 2/20\n",
      "219/219 [==============================] - 2s 10ms/step - loss: 0.0305 - val_loss: 0.0244\n",
      "Epoch 3/20\n",
      "219/219 [==============================] - 3s 12ms/step - loss: 0.0177 - val_loss: 0.0151\n",
      "Epoch 4/20\n",
      "219/219 [==============================] - 3s 13ms/step - loss: 0.0120 - val_loss: 0.0108\n",
      "Epoch 5/20\n",
      "219/219 [==============================] - 3s 13ms/step - loss: 0.0093 - val_loss: 0.0086\n",
      "Epoch 6/20\n",
      "219/219 [==============================] - 3s 12ms/step - loss: 0.0078 - val_loss: 0.0074\n",
      "Epoch 7/20\n",
      "219/219 [==============================] - 2s 9ms/step - loss: 0.0069 - val_loss: 0.0064\n",
      "Epoch 8/20\n",
      "219/219 [==============================] - 3s 12ms/step - loss: 0.0061 - val_loss: 0.0058\n",
      "Epoch 9/20\n",
      "219/219 [==============================] - 2s 7ms/step - loss: 0.0056 - val_loss: 0.0053\n",
      "Epoch 10/20\n",
      "219/219 [==============================] - 3s 12ms/step - loss: 0.0051 - val_loss: 0.0049\n",
      "Epoch 11/20\n",
      "219/219 [==============================] - 2s 8ms/step - loss: 0.0048 - val_loss: 0.0046\n",
      "Epoch 12/20\n",
      "219/219 [==============================] - 3s 13ms/step - loss: 0.0045 - val_loss: 0.0043\n",
      "Epoch 13/20\n",
      "219/219 [==============================] - 2s 8ms/step - loss: 0.0043 - val_loss: 0.0041\n",
      "Epoch 14/20\n",
      "219/219 [==============================] - 2s 9ms/step - loss: 0.0042 - val_loss: 0.0040\n",
      "Epoch 15/20\n",
      "219/219 [==============================] - 2s 8ms/step - loss: 0.0041 - val_loss: 0.0040\n",
      "Epoch 16/20\n",
      "219/219 [==============================] - 2s 8ms/step - loss: 0.0040 - val_loss: 0.0039\n",
      "Epoch 17/20\n",
      "219/219 [==============================] - 2s 9ms/step - loss: 0.0039 - val_loss: 0.0039\n",
      "Epoch 18/20\n",
      "219/219 [==============================] - 2s 8ms/step - loss: 0.0038 - val_loss: 0.0037\n",
      "Epoch 19/20\n",
      "219/219 [==============================] - 2s 10ms/step - loss: 0.0037 - val_loss: 0.0036\n",
      "Epoch 20/20\n",
      "219/219 [==============================] - 2s 8ms/step - loss: 0.0037 - val_loss: 0.0035\n"
     ]
    }
   ],
   "source": [
    "# 완전 연결 네트워크 이용 - 선형 예측\n",
    "model = keras.models.Sequential([\n",
    "    keras.layers.Flatten(input_shape = [50, 1]),\n",
    "    keras.layers.Dense(1)\n",
    "])\n",
    "\n",
    "model.compile(loss=\"mse\", optimizer=\"adam\")\n",
    "history = model.fit(X_train, y_train, epochs=20,\n",
    "                    validation_data=(X_valid, y_valid))"
   ]
  },
  {
   "cell_type": "code",
   "execution_count": 16,
   "id": "387da1a1",
   "metadata": {},
   "outputs": [
    {
     "name": "stdout",
     "output_type": "stream",
     "text": [
      "63/63 [==============================] - 1s 7ms/step - loss: 0.0035\n"
     ]
    },
    {
     "data": {
      "text/plain": [
       "0.003547875676304102"
      ]
     },
     "execution_count": 16,
     "metadata": {},
     "output_type": "execute_result"
    }
   ],
   "source": [
    "model.evaluate(X_valid, y_valid)"
   ]
  },
  {
   "cell_type": "code",
   "execution_count": 17,
   "id": "39b9a30e",
   "metadata": {
    "collapsed": true
   },
   "outputs": [
    {
     "name": "stdout",
     "output_type": "stream",
     "text": [
      "Epoch 1/20\n",
      "219/219 [==============================] - 16s 47ms/step - loss: 0.0444 - val_loss: 0.0168\n",
      "Epoch 2/20\n",
      "219/219 [==============================] - 9s 41ms/step - loss: 0.0126 - val_loss: 0.0121\n",
      "Epoch 3/20\n",
      "219/219 [==============================] - 9s 39ms/step - loss: 0.0115 - val_loss: 0.0118\n",
      "Epoch 4/20\n",
      "219/219 [==============================] - 8s 37ms/step - loss: 0.0113 - val_loss: 0.0115\n",
      "Epoch 5/20\n",
      "219/219 [==============================] - 7s 30ms/step - loss: 0.0111 - val_loss: 0.0115\n",
      "Epoch 6/20\n",
      "219/219 [==============================] - 7s 30ms/step - loss: 0.0111 - val_loss: 0.0114\n",
      "Epoch 7/20\n",
      "219/219 [==============================] - 5s 23ms/step - loss: 0.0111 - val_loss: 0.0114\n",
      "Epoch 8/20\n",
      "219/219 [==============================] - 6s 25ms/step - loss: 0.0111 - val_loss: 0.0114\n",
      "Epoch 9/20\n",
      "219/219 [==============================] - 6s 27ms/step - loss: 0.0111 - val_loss: 0.0114\n",
      "Epoch 10/20\n",
      "219/219 [==============================] - 6s 27ms/step - loss: 0.0111 - val_loss: 0.0115\n",
      "Epoch 11/20\n",
      "219/219 [==============================] - 7s 30ms/step - loss: 0.0111 - val_loss: 0.0115\n",
      "Epoch 12/20\n",
      "219/219 [==============================] - 8s 38ms/step - loss: 0.0111 - val_loss: 0.0114\n",
      "Epoch 13/20\n",
      "219/219 [==============================] - 9s 41ms/step - loss: 0.0111 - val_loss: 0.0114\n",
      "Epoch 14/20\n",
      "219/219 [==============================] - 9s 43ms/step - loss: 0.0111 - val_loss: 0.0115\n",
      "Epoch 15/20\n",
      "219/219 [==============================] - 8s 37ms/step - loss: 0.0112 - val_loss: 0.0115\n",
      "Epoch 16/20\n",
      "219/219 [==============================] - 7s 34ms/step - loss: 0.0111 - val_loss: 0.0114\n",
      "Epoch 17/20\n",
      "219/219 [==============================] - 8s 34ms/step - loss: 0.0111 - val_loss: 0.0114\n",
      "Epoch 18/20\n",
      "219/219 [==============================] - 7s 32ms/step - loss: 0.0112 - val_loss: 0.0114\n",
      "Epoch 19/20\n",
      "219/219 [==============================] - 6s 29ms/step - loss: 0.0112 - val_loss: 0.0114\n",
      "Epoch 20/20\n",
      "219/219 [==============================] - 6s 28ms/step - loss: 0.0111 - val_loss: 0.0114\n"
     ]
    }
   ],
   "source": [
    "# 간단한 RNN 구현하기\n",
    "model = keras.models.Sequential([\n",
    "    keras.layers.SimpleRNN(1, input_shape=[None, 1])\n",
    "])\n",
    "# RNN은 어떤 길이의 타임 스텝도 처리할 수 있기에, 입력 시퀀스의 길이 지정할 필요 없다.\n",
    "\n",
    "optimizer = keras.optimizers.Adam(learning_rate=0.005)\n",
    "model.compile(loss=\"mse\", optimizer=optimizer)\n",
    "history = model.fit(X_train, y_train, epochs=20,\n",
    "                    validation_data=(X_valid, y_valid))"
   ]
  },
  {
   "cell_type": "code",
   "execution_count": 18,
   "id": "0cd5dfd7",
   "metadata": {},
   "outputs": [
    {
     "name": "stdout",
     "output_type": "stream",
     "text": [
      "63/63 [==============================] - 1s 10ms/step - loss: 0.0114\n"
     ]
    },
    {
     "data": {
      "text/plain": [
       "0.011437698267400265"
      ]
     },
     "execution_count": 18,
     "metadata": {},
     "output_type": "execute_result"
    }
   ],
   "source": [
    "model.evaluate(X_valid, y_valid)"
   ]
  },
  {
   "cell_type": "code",
   "execution_count": 19,
   "id": "6b4732b3",
   "metadata": {
    "collapsed": true
   },
   "outputs": [
    {
     "name": "stdout",
     "output_type": "stream",
     "text": [
      "Epoch 1/20\n",
      "219/219 [==============================] - 14s 43ms/step - loss: 0.0311 - val_loss: 0.0078\n",
      "Epoch 2/20\n",
      "219/219 [==============================] - 10s 44ms/step - loss: 0.0060 - val_loss: 0.0050\n",
      "Epoch 3/20\n",
      "219/219 [==============================] - 9s 41ms/step - loss: 0.0050 - val_loss: 0.0049\n",
      "Epoch 4/20\n",
      "219/219 [==============================] - 8s 36ms/step - loss: 0.0043 - val_loss: 0.0042\n",
      "Epoch 5/20\n",
      "219/219 [==============================] - 8s 35ms/step - loss: 0.0039 - val_loss: 0.0042\n",
      "Epoch 6/20\n",
      "219/219 [==============================] - 7s 32ms/step - loss: 0.0036 - val_loss: 0.0037\n",
      "Epoch 7/20\n",
      "219/219 [==============================] - 7s 33ms/step - loss: 0.0037 - val_loss: 0.0036\n",
      "Epoch 8/20\n",
      "219/219 [==============================] - 7s 33ms/step - loss: 0.0036 - val_loss: 0.0036\n",
      "Epoch 9/20\n",
      "219/219 [==============================] - 8s 38ms/step - loss: 0.0035 - val_loss: 0.0039\n",
      "Epoch 10/20\n",
      "219/219 [==============================] - 9s 42ms/step - loss: 0.0035 - val_loss: 0.0032\n",
      "Epoch 11/20\n",
      "219/219 [==============================] - 10s 47ms/step - loss: 0.0034 - val_loss: 0.0033\n",
      "Epoch 12/20\n",
      "219/219 [==============================] - 10s 47ms/step - loss: 0.0034 - val_loss: 0.0035\n",
      "Epoch 13/20\n",
      "219/219 [==============================] - 8s 37ms/step - loss: 0.0033 - val_loss: 0.0033\n",
      "Epoch 14/20\n",
      "219/219 [==============================] - 8s 37ms/step - loss: 0.0033 - val_loss: 0.0035\n",
      "Epoch 15/20\n",
      "219/219 [==============================] - 7s 31ms/step - loss: 0.0031 - val_loss: 0.0031\n",
      "Epoch 16/20\n",
      "219/219 [==============================] - 8s 35ms/step - loss: 0.0031 - val_loss: 0.0031\n",
      "Epoch 17/20\n",
      "219/219 [==============================] - 9s 41ms/step - loss: 0.0031 - val_loss: 0.0030\n",
      "Epoch 18/20\n",
      "219/219 [==============================] - 10s 46ms/step - loss: 0.0030 - val_loss: 0.0029\n",
      "Epoch 19/20\n",
      "219/219 [==============================] - 11s 52ms/step - loss: 0.0031 - val_loss: 0.0029\n",
      "Epoch 20/20\n",
      "219/219 [==============================] - 14s 63ms/step - loss: 0.0030 - val_loss: 0.0037\n"
     ]
    }
   ],
   "source": [
    "# 심층 RNN\n",
    "model = keras.models.Sequential([\n",
    "    keras.layers.SimpleRNN(20, return_sequences=True, input_shape=[None, 1]),\n",
    "    keras.layers.SimpleRNN(20, return_sequences=True),\n",
    "    keras.layers.SimpleRNN(1)\n",
    "])\n",
    "\n",
    "model.compile(loss=\"mse\", optimizer=\"adam\")\n",
    "history = model.fit(X_train, y_train, epochs=20,\n",
    "                    validation_data=(X_valid, y_valid))"
   ]
  },
  {
   "cell_type": "code",
   "execution_count": 20,
   "id": "734ccf82",
   "metadata": {},
   "outputs": [
    {
     "name": "stdout",
     "output_type": "stream",
     "text": [
      "63/63 [==============================] - 1s 19ms/step - loss: 0.0037\n"
     ]
    },
    {
     "data": {
      "text/plain": [
       "0.0037151025608181953"
      ]
     },
     "execution_count": 20,
     "metadata": {},
     "output_type": "execute_result"
    }
   ],
   "source": [
    "model.evaluate(X_valid, y_valid) "
   ]
  },
  {
   "cell_type": "code",
   "execution_count": 84,
   "id": "a0c1ae1f",
   "metadata": {},
   "outputs": [
    {
     "name": "stdout",
     "output_type": "stream",
     "text": [
      "Epoch 1/20\n",
      "219/219 [==============================] - 10s 29ms/step - loss: 0.0570 - val_loss: 0.0099\n",
      "Epoch 2/20\n",
      "219/219 [==============================] - 5s 25ms/step - loss: 0.0068 - val_loss: 0.0051\n",
      "Epoch 3/20\n",
      "219/219 [==============================] - 5s 24ms/step - loss: 0.0047 - val_loss: 0.0038\n",
      "Epoch 4/20\n",
      "219/219 [==============================] - 5s 25ms/step - loss: 0.0041 - val_loss: 0.0034\n",
      "Epoch 5/20\n",
      "219/219 [==============================] - 5s 23ms/step - loss: 0.0036 - val_loss: 0.0033\n",
      "Epoch 6/20\n",
      "219/219 [==============================] - 5s 23ms/step - loss: 0.0036 - val_loss: 0.0031\n",
      "Epoch 7/20\n",
      "219/219 [==============================] - 5s 25ms/step - loss: 0.0034 - val_loss: 0.0032\n",
      "Epoch 8/20\n",
      "219/219 [==============================] - 5s 24ms/step - loss: 0.0034 - val_loss: 0.0031\n",
      "Epoch 9/20\n",
      "219/219 [==============================] - 6s 27ms/step - loss: 0.0034 - val_loss: 0.0030\n",
      "Epoch 10/20\n",
      "219/219 [==============================] - 6s 28ms/step - loss: 0.0033 - val_loss: 0.0030\n",
      "Epoch 11/20\n",
      "219/219 [==============================] - 7s 31ms/step - loss: 0.0033 - val_loss: 0.0030\n",
      "Epoch 12/20\n",
      "219/219 [==============================] - 7s 34ms/step - loss: 0.0032 - val_loss: 0.0031\n",
      "Epoch 13/20\n",
      "219/219 [==============================] - 8s 37ms/step - loss: 0.0032 - val_loss: 0.0031\n",
      "Epoch 14/20\n",
      "219/219 [==============================] - 8s 37ms/step - loss: 0.0033 - val_loss: 0.0030\n",
      "Epoch 15/20\n",
      "219/219 [==============================] - 7s 32ms/step - loss: 0.0031 - val_loss: 0.0031\n",
      "Epoch 16/20\n",
      "219/219 [==============================] - 6s 30ms/step - loss: 0.0032 - val_loss: 0.0031\n",
      "Epoch 17/20\n",
      "219/219 [==============================] - 6s 26ms/step - loss: 0.0031 - val_loss: 0.0029\n",
      "Epoch 18/20\n",
      "219/219 [==============================] - 6s 26ms/step - loss: 0.0031 - val_loss: 0.0031\n",
      "Epoch 19/20\n",
      "219/219 [==============================] - 5s 24ms/step - loss: 0.0031 - val_loss: 0.0028\n",
      "Epoch 20/20\n",
      "219/219 [==============================] - 5s 24ms/step - loss: 0.0030 - val_loss: 0.0027\n"
     ]
    }
   ],
   "source": [
    "# 기본적으로 tanh 활성화 함수 사용, 다른 활성화 함수 사용\n",
    "model = keras.models.Sequential([\n",
    "    keras.layers.SimpleRNN(20, return_sequences=True, input_shape=[None, 1]),\n",
    "    keras.layers.SimpleRNN(20),\n",
    "    keras.layers.Dense(1)\n",
    "])\n",
    "\n",
    "model.compile(loss=\"mse\", optimizer=\"adam\")\n",
    "history = model.fit(X_train, y_train, epochs=20,\n",
    "                    validation_data=(X_valid, y_valid))"
   ]
  },
  {
   "cell_type": "code",
   "execution_count": 85,
   "id": "5685a6a0",
   "metadata": {},
   "outputs": [
    {
     "name": "stdout",
     "output_type": "stream",
     "text": [
      "63/63 [==============================] - 0s 6ms/step - loss: 0.0027\n"
     ]
    },
    {
     "data": {
      "text/plain": [
       "0.0027346147689968348"
      ]
     },
     "execution_count": 85,
     "metadata": {},
     "output_type": "execute_result"
    }
   ],
   "source": [
    "model.evaluate(X_valid, y_valid)"
   ]
  },
  {
   "cell_type": "markdown",
   "id": "5afdd477",
   "metadata": {},
   "source": [
    "MSE로 보는  \n",
    "성능 : 순진한 예측 < 간단한 RNN < 선형 모델 < 심층 RNN < 출력층 Dense"
   ]
  },
  {
   "cell_type": "markdown",
   "id": "0bf9d730",
   "metadata": {},
   "source": [
    "#### 여러 타임 스텝 앞을 예측하기"
   ]
  },
  {
   "cell_type": "code",
   "execution_count": 86,
   "id": "4303c460",
   "metadata": {},
   "outputs": [
    {
     "name": "stdout",
     "output_type": "stream",
     "text": [
      "1/1 [==============================] - 0s 321ms/step\n",
      "1/1 [==============================] - 0s 35ms/step\n",
      "1/1 [==============================] - 0s 40ms/step\n",
      "1/1 [==============================] - 0s 45ms/step\n",
      "1/1 [==============================] - 0s 41ms/step\n",
      "1/1 [==============================] - 0s 53ms/step\n",
      "1/1 [==============================] - 0s 35ms/step\n",
      "1/1 [==============================] - 0s 36ms/step\n",
      "1/1 [==============================] - 0s 33ms/step\n",
      "1/1 [==============================] - 0s 37ms/step\n"
     ]
    }
   ],
   "source": [
    "# 1. 이미 훈련된 모델 사용하여 다음 값 예측한 다음, 이 값을 입력으로 추가\n",
    "# 다음 스텝에 대한 예측은 보통 더 미래의 타임스텝에 대한 예측보다 정확함\n",
    "# 한 번에 하나의 미래 스텝을 예측하기 위해 RNN 사용하는 것보다 나음\n",
    "series = generate_time_series(1, n_steps + 10)\n",
    "X_new, Y_new = series[:, :n_steps], series[:, n_steps:]\n",
    "X = X_new\n",
    "\n",
    "for step_ahead in range(10) :\n",
    "    y_pred_one = model.predict(X[:, step_ahead:])[:, np.newaxis, :]\n",
    "    X = np.concatenate([X, y_pred_one], axis=1)"
   ]
  },
  {
   "cell_type": "code",
   "execution_count": 87,
   "id": "63bd3dc0",
   "metadata": {},
   "outputs": [
    {
     "data": {
      "text/plain": [
       "(1, 10, 1)"
      ]
     },
     "execution_count": 87,
     "metadata": {},
     "output_type": "execute_result"
    }
   ],
   "source": [
    "Y_pred = X[:, n_steps:]\n",
    "Y_pred.shape"
   ]
  },
  {
   "cell_type": "code",
   "execution_count": 88,
   "id": "508496f1",
   "metadata": {},
   "outputs": [
    {
     "data": {
      "text/plain": [
       "0.0029259264"
      ]
     },
     "execution_count": 88,
     "metadata": {},
     "output_type": "execute_result"
    }
   ],
   "source": [
    "np.mean(keras.losses.mean_squared_error(Y_pred, Y_new))"
   ]
  },
  {
   "cell_type": "code",
   "execution_count": 92,
   "id": "3f18d0eb",
   "metadata": {},
   "outputs": [],
   "source": [
    "# 2. RNN 훈련해 다음 값 10개 한번에 예측\n",
    "# 시퀀스-투-벡터 모델 사용하지만, 1개가 아닌 10개 값 출력\n",
    "series = generate_time_series(10000, n_steps+10)\n",
    "X_train, Y_train = series[:7000, :n_steps], series[:7000, -10:, 0]\n",
    "X_valid, Y_valid = series[7000:9000, :n_steps], series[7000:9000, -10:, 0]\n",
    "X_test, Y_test = series[9000:, :n_steps], series[9000:, -10:, 0]"
   ]
  },
  {
   "cell_type": "code",
   "execution_count": 93,
   "id": "a22f72c2",
   "metadata": {},
   "outputs": [
    {
     "name": "stdout",
     "output_type": "stream",
     "text": [
      "63/63 [==============================] - 0s 5ms/step\n",
      "63/63 [==============================] - 1s 7ms/step\n",
      "63/63 [==============================] - 1s 8ms/step\n",
      "63/63 [==============================] - 0s 7ms/step\n",
      "63/63 [==============================] - 0s 7ms/step\n",
      "63/63 [==============================] - 0s 7ms/step\n",
      "63/63 [==============================] - 0s 7ms/step\n",
      "63/63 [==============================] - 0s 7ms/step\n",
      "63/63 [==============================] - 1s 8ms/step\n",
      "63/63 [==============================] - 1s 8ms/step\n"
     ]
    },
    {
     "data": {
      "text/plain": [
       "(2000, 10)"
      ]
     },
     "execution_count": 93,
     "metadata": {},
     "output_type": "execute_result"
    }
   ],
   "source": [
    "X = X_valid\n",
    "for step_ahead in range(10) :\n",
    "    y_pred_one = model.predict(X)[:, np.newaxis, :]\n",
    "    X = np.concatenate([X, y_pred_one], axis=1)\n",
    "    \n",
    "Y_pred = X[:, n_steps:, 0]\n",
    "Y_pred.shape"
   ]
  },
  {
   "cell_type": "code",
   "execution_count": 94,
   "id": "c7579da6",
   "metadata": {},
   "outputs": [
    {
     "name": "stdout",
     "output_type": "stream",
     "text": [
      "Epoch 1/20\n",
      "219/219 [==============================] - 8s 25ms/step - loss: 0.0594 - val_loss: 0.2669\n",
      "Epoch 2/20\n",
      "219/219 [==============================] - 5s 24ms/step - loss: 0.0236 - val_loss: 0.2699\n",
      "Epoch 3/20\n",
      "219/219 [==============================] - 5s 25ms/step - loss: 0.0171 - val_loss: 0.2768\n",
      "Epoch 4/20\n",
      "219/219 [==============================] - 6s 25ms/step - loss: 0.0148 - val_loss: 0.2760\n",
      "Epoch 5/20\n",
      "219/219 [==============================] - 6s 28ms/step - loss: 0.0129 - val_loss: 0.2790\n",
      "Epoch 6/20\n",
      "219/219 [==============================] - 6s 29ms/step - loss: 0.0121 - val_loss: 0.2857\n",
      "Epoch 7/20\n",
      "219/219 [==============================] - 7s 34ms/step - loss: 0.0115 - val_loss: 0.2919\n",
      "Epoch 8/20\n",
      "219/219 [==============================] - 8s 37ms/step - loss: 0.0109 - val_loss: 0.2860\n",
      "Epoch 9/20\n",
      "219/219 [==============================] - 9s 41ms/step - loss: 0.0109 - val_loss: 0.2831\n",
      "Epoch 10/20\n",
      "219/219 [==============================] - 7s 33ms/step - loss: 0.0104 - val_loss: 0.2850\n",
      "Epoch 11/20\n",
      "219/219 [==============================] - 6s 29ms/step - loss: 0.0107 - val_loss: 0.2846\n",
      "Epoch 12/20\n",
      "219/219 [==============================] - 6s 27ms/step - loss: 0.0103 - val_loss: 0.2903\n",
      "Epoch 13/20\n",
      "219/219 [==============================] - 5s 24ms/step - loss: 0.0099 - val_loss: 0.2909\n",
      "Epoch 14/20\n",
      "219/219 [==============================] - 5s 24ms/step - loss: 0.0099 - val_loss: 0.2838\n",
      "Epoch 15/20\n",
      "219/219 [==============================] - 5s 23ms/step - loss: 0.0099 - val_loss: 0.2790\n",
      "Epoch 16/20\n",
      "219/219 [==============================] - 5s 24ms/step - loss: 0.0095 - val_loss: 0.2906\n",
      "Epoch 17/20\n",
      "219/219 [==============================] - 5s 24ms/step - loss: 0.0094 - val_loss: 0.2933\n",
      "Epoch 18/20\n",
      "219/219 [==============================] - 6s 25ms/step - loss: 0.0093 - val_loss: 0.2922\n",
      "Epoch 19/20\n",
      "219/219 [==============================] - 6s 27ms/step - loss: 0.0094 - val_loss: 0.2912\n",
      "Epoch 20/20\n",
      "219/219 [==============================] - 6s 29ms/step - loss: 0.0091 - val_loss: 0.2910\n"
     ]
    },
    {
     "data": {
      "text/plain": [
       "<keras.src.callbacks.History at 0x197e9e00450>"
      ]
     },
     "execution_count": 94,
     "metadata": {},
     "output_type": "execute_result"
    }
   ],
   "source": [
    "model = keras.models.Sequential([\n",
    "    keras.layers.SimpleRNN(20, return_sequences=True, input_shape=[None, 1]),\n",
    "    keras.layers.SimpleRNN(20),\n",
    "    keras.layers.Dense(10)\n",
    "])\n",
    "\n",
    "model.compile(loss='mse', optimizer='adam')\n",
    "model.fit(X_train, Y_train, epochs=20, validation_data=(X_valid, y_valid))"
   ]
  },
  {
   "cell_type": "code",
   "execution_count": 96,
   "id": "0d0b50fa",
   "metadata": {},
   "outputs": [
    {
     "name": "stdout",
     "output_type": "stream",
     "text": [
      "63/63 [==============================] - 1s 8ms/step - loss: 0.0086\n"
     ]
    },
    {
     "data": {
      "text/plain": [
       "0.008630957454442978"
      ]
     },
     "execution_count": 96,
     "metadata": {},
     "output_type": "execute_result"
    }
   ],
   "source": [
    "model.evaluate(X_valid, Y_valid)"
   ]
  },
  {
   "cell_type": "code",
   "execution_count": 97,
   "id": "f755cce0",
   "metadata": {},
   "outputs": [
    {
     "name": "stdout",
     "output_type": "stream",
     "text": [
      "32/32 [==============================] - 1s 8ms/step\n"
     ]
    },
    {
     "data": {
      "text/plain": [
       "0.008936382"
      ]
     },
     "execution_count": 97,
     "metadata": {},
     "output_type": "execute_result"
    }
   ],
   "source": [
    "y_pred = model.predict(X_test)\n",
    "np.mean(keras.losses.mean_squared_error(Y_test,y_pred)) # 좋은 성능"
   ]
  },
  {
   "cell_type": "code",
   "execution_count": 98,
   "id": "9a5c173b",
   "metadata": {},
   "outputs": [],
   "source": [
    "# 타임 스텝마다 모델은 이전 타임 스템만 볼 수 있고, 앞을 볼 수 없다. -> 인과 모델\n",
    "# 타깃 시퀀스\n",
    "n_steps = 50\n",
    "Y =  np.empty((10000, n_steps, 10))\n",
    "for step_ahead in range(1, 10+1) :\n",
    "    Y[:, :, step_ahead-1] = series[:, step_ahead:step_ahead + n_steps, 0]\n",
    "Y_train = Y[:7000]\n",
    "Y_valid = Y[7000:9000]\n",
    "Y_test = Y[9000:]"
   ]
  },
  {
   "cell_type": "code",
   "execution_count": 99,
   "id": "592349de",
   "metadata": {},
   "outputs": [
    {
     "data": {
      "text/plain": [
       "((7000, 50, 1), (7000, 50, 10))"
      ]
     },
     "execution_count": 99,
     "metadata": {},
     "output_type": "execute_result"
    }
   ],
   "source": [
    "X_train.shape, Y_train.shape"
   ]
  },
  {
   "cell_type": "code",
   "execution_count": 100,
   "id": "1e63c817",
   "metadata": {
    "collapsed": true
   },
   "outputs": [
    {
     "name": "stdout",
     "output_type": "stream",
     "text": [
      "Epoch 1/20\n",
      "219/219 [==============================] - 9s 29ms/step - loss: 0.0471 - last_time_step_mse: 0.0360 - val_loss: 0.0385 - val_last_time_step_mse: 0.0268\n",
      "Epoch 2/20\n",
      "219/219 [==============================] - 6s 29ms/step - loss: 0.0358 - last_time_step_mse: 0.0232 - val_loss: 0.0383 - val_last_time_step_mse: 0.0301\n",
      "Epoch 3/20\n",
      "219/219 [==============================] - 7s 32ms/step - loss: 0.0322 - last_time_step_mse: 0.0200 - val_loss: 0.0297 - val_last_time_step_mse: 0.0178\n",
      "Epoch 4/20\n",
      "219/219 [==============================] - 8s 36ms/step - loss: 0.0299 - last_time_step_mse: 0.0182 - val_loss: 0.0294 - val_last_time_step_mse: 0.0174\n",
      "Epoch 5/20\n",
      "219/219 [==============================] - 9s 40ms/step - loss: 0.0283 - last_time_step_mse: 0.0163 - val_loss: 0.0257 - val_last_time_step_mse: 0.0131\n",
      "Epoch 6/20\n",
      "219/219 [==============================] - 8s 34ms/step - loss: 0.0263 - last_time_step_mse: 0.0140 - val_loss: 0.0279 - val_last_time_step_mse: 0.0156\n",
      "Epoch 7/20\n",
      "219/219 [==============================] - 6s 29ms/step - loss: 0.0251 - last_time_step_mse: 0.0129 - val_loss: 0.0253 - val_last_time_step_mse: 0.0136\n",
      "Epoch 8/20\n",
      "219/219 [==============================] - 6s 28ms/step - loss: 0.0235 - last_time_step_mse: 0.0108 - val_loss: 0.0211 - val_last_time_step_mse: 0.0076\n",
      "Epoch 9/20\n",
      "219/219 [==============================] - 6s 27ms/step - loss: 0.0213 - last_time_step_mse: 0.0084 - val_loss: 0.0204 - val_last_time_step_mse: 0.0072\n",
      "Epoch 10/20\n",
      "219/219 [==============================] - 5s 25ms/step - loss: 0.0214 - last_time_step_mse: 0.0089 - val_loss: 0.0196 - val_last_time_step_mse: 0.0066\n",
      "Epoch 11/20\n",
      "219/219 [==============================] - 6s 26ms/step - loss: 0.0202 - last_time_step_mse: 0.0075 - val_loss: 0.0199 - val_last_time_step_mse: 0.0075\n",
      "Epoch 12/20\n",
      "219/219 [==============================] - 5s 24ms/step - loss: 0.0196 - last_time_step_mse: 0.0071 - val_loss: 0.0207 - val_last_time_step_mse: 0.0088\n",
      "Epoch 13/20\n",
      "219/219 [==============================] - 6s 26ms/step - loss: 0.0193 - last_time_step_mse: 0.0069 - val_loss: 0.0190 - val_last_time_step_mse: 0.0073\n",
      "Epoch 14/20\n",
      "219/219 [==============================] - 5s 25ms/step - loss: 0.0190 - last_time_step_mse: 0.0067 - val_loss: 0.0183 - val_last_time_step_mse: 0.0059\n",
      "Epoch 15/20\n",
      "219/219 [==============================] - 6s 25ms/step - loss: 0.0189 - last_time_step_mse: 0.0068 - val_loss: 0.0179 - val_last_time_step_mse: 0.0056\n",
      "Epoch 16/20\n",
      "219/219 [==============================] - 6s 26ms/step - loss: 0.0189 - last_time_step_mse: 0.0069 - val_loss: 0.0185 - val_last_time_step_mse: 0.0061\n",
      "Epoch 17/20\n",
      "219/219 [==============================] - 6s 28ms/step - loss: 0.0186 - last_time_step_mse: 0.0067 - val_loss: 0.0187 - val_last_time_step_mse: 0.0068\n",
      "Epoch 18/20\n",
      "219/219 [==============================] - 7s 30ms/step - loss: 0.0185 - last_time_step_mse: 0.0067 - val_loss: 0.0183 - val_last_time_step_mse: 0.0069\n",
      "Epoch 19/20\n",
      "219/219 [==============================] - 8s 35ms/step - loss: 0.0183 - last_time_step_mse: 0.0064 - val_loss: 0.0175 - val_last_time_step_mse: 0.0057\n",
      "Epoch 20/20\n",
      "219/219 [==============================] - 9s 39ms/step - loss: 0.0181 - last_time_step_mse: 0.0064 - val_loss: 0.0180 - val_last_time_step_mse: 0.0061\n"
     ]
    }
   ],
   "source": [
    "# 시퀀스-투-시퀀스 모델로 변환\n",
    "# 모든 타임 스텝에서 출력을 Dense층에 적용\n",
    "model = keras.models.Sequential([\n",
    "    keras.layers.SimpleRNN(20, return_sequences=True, input_shape=[None, 1]),\n",
    "    keras.layers.SimpleRNN(20, return_sequences=True),\n",
    "    keras.layers.TimeDistributed(keras.layers.Dense(10))\n",
    "])\n",
    "\n",
    "def last_time_step_mse(Y_true, Y_pred):\n",
    "    return keras.metrics.mean_squared_error(Y_true[:, -1], Y_pred[:, -1]) # 마지막 타임 스텝의 MSE만 계산\n",
    "\n",
    "model.compile(loss=\"mse\", optimizer=keras.optimizers.Adam(learning_rate=0.01), metrics=[last_time_step_mse])\n",
    "history = model.fit(X_train, Y_train, epochs=20,\n",
    "                    validation_data=(X_valid, Y_valid))"
   ]
  },
  {
   "cell_type": "code",
   "execution_count": 102,
   "id": "d096c50d",
   "metadata": {},
   "outputs": [
    {
     "name": "stdout",
     "output_type": "stream",
     "text": [
      "63/63 [==============================] - 1s 10ms/step - loss: 0.0180 - last_time_step_mse: 0.0061\n"
     ]
    },
    {
     "data": {
      "text/plain": [
       "[0.017983851954340935, 0.00610963674262166]"
      ]
     },
     "execution_count": 102,
     "metadata": {},
     "output_type": "execute_result"
    }
   ],
   "source": [
    "model.evaluate(X_valid, Y_valid)"
   ]
  },
  {
   "cell_type": "code",
   "execution_count": 101,
   "id": "cd508d3a",
   "metadata": {},
   "outputs": [
    {
     "name": "stdout",
     "output_type": "stream",
     "text": [
      "32/32 [==============================] - 1s 10ms/step\n"
     ]
    },
    {
     "data": {
      "text/plain": [
       "0.018196573"
      ]
     },
     "execution_count": 101,
     "metadata": {},
     "output_type": "execute_result"
    }
   ],
   "source": [
    "y_pred = model.predict(X_test)\n",
    "np.mean(keras.losses.mean_squared_error(Y_test,y_pred))"
   ]
  },
  {
   "cell_type": "code",
   "execution_count": 63,
   "id": "13153ac6",
   "metadata": {},
   "outputs": [
    {
     "name": "stdout",
     "output_type": "stream",
     "text": [
      "1/1 [==============================] - 0s 35ms/step\n"
     ]
    }
   ],
   "source": [
    "series = generate_time_series(1, 50 + 10)\n",
    "X_new, Y_new = series[:, :50, :], series[:, 50:, :]\n",
    "Y_pred = model.predict(X_new)[:, -1][..., np.newaxis]"
   ]
  },
  {
   "cell_type": "code",
   "execution_count": 65,
   "id": "862412dd",
   "metadata": {},
   "outputs": [
    {
     "data": {
      "text/plain": [
       "0.0072089895"
      ]
     },
     "execution_count": 65,
     "metadata": {},
     "output_type": "execute_result"
    }
   ],
   "source": [
    "np.mean(keras.losses.mean_squared_error(Y_new,Y_pred))"
   ]
  },
  {
   "cell_type": "code",
   "execution_count": 104,
   "id": "ec039285",
   "metadata": {
    "collapsed": true
   },
   "outputs": [
    {
     "name": "stdout",
     "output_type": "stream",
     "text": [
      "Epoch 1/20\n",
      "219/219 [==============================] - 9s 26ms/step - loss: 0.1774 - last_time_step_mse: 0.1658 - val_loss: 0.0790 - val_last_time_step_mse: 0.0733\n",
      "Epoch 2/20\n",
      "219/219 [==============================] - 6s 28ms/step - loss: 0.0525 - last_time_step_mse: 0.0431 - val_loss: 0.0517 - val_last_time_step_mse: 0.0433\n",
      "Epoch 3/20\n",
      "219/219 [==============================] - 6s 26ms/step - loss: 0.0450 - last_time_step_mse: 0.0356 - val_loss: 0.0442 - val_last_time_step_mse: 0.0343\n",
      "Epoch 4/20\n",
      "219/219 [==============================] - 6s 28ms/step - loss: 0.0412 - last_time_step_mse: 0.0315 - val_loss: 0.0398 - val_last_time_step_mse: 0.0302\n",
      "Epoch 5/20\n",
      "219/219 [==============================] - 7s 31ms/step - loss: 0.0383 - last_time_step_mse: 0.0282 - val_loss: 0.0367 - val_last_time_step_mse: 0.0264\n",
      "Epoch 6/20\n",
      "219/219 [==============================] - 7s 33ms/step - loss: 0.0356 - last_time_step_mse: 0.0248 - val_loss: 0.0342 - val_last_time_step_mse: 0.0233\n",
      "Epoch 7/20\n",
      "219/219 [==============================] - 9s 40ms/step - loss: 0.0340 - last_time_step_mse: 0.0228 - val_loss: 0.0340 - val_last_time_step_mse: 0.0222\n",
      "Epoch 8/20\n",
      "219/219 [==============================] - 9s 43ms/step - loss: 0.0323 - last_time_step_mse: 0.0206 - val_loss: 0.0390 - val_last_time_step_mse: 0.0301\n",
      "Epoch 9/20\n",
      "219/219 [==============================] - 9s 43ms/step - loss: 0.0316 - last_time_step_mse: 0.0198 - val_loss: 0.0336 - val_last_time_step_mse: 0.0222\n",
      "Epoch 10/20\n",
      "219/219 [==============================] - 7s 33ms/step - loss: 0.0311 - last_time_step_mse: 0.0193 - val_loss: 0.0302 - val_last_time_step_mse: 0.0179\n",
      "Epoch 11/20\n",
      "219/219 [==============================] - 7s 31ms/step - loss: 0.0301 - last_time_step_mse: 0.0182 - val_loss: 0.0298 - val_last_time_step_mse: 0.0181\n",
      "Epoch 12/20\n",
      "219/219 [==============================] - 6s 26ms/step - loss: 0.0297 - last_time_step_mse: 0.0178 - val_loss: 0.0287 - val_last_time_step_mse: 0.0168\n",
      "Epoch 13/20\n",
      "219/219 [==============================] - 6s 25ms/step - loss: 0.0292 - last_time_step_mse: 0.0170 - val_loss: 0.0381 - val_last_time_step_mse: 0.0286\n",
      "Epoch 14/20\n",
      "219/219 [==============================] - 5s 25ms/step - loss: 0.0288 - last_time_step_mse: 0.0166 - val_loss: 0.0314 - val_last_time_step_mse: 0.0199\n",
      "Epoch 15/20\n",
      "219/219 [==============================] - 6s 26ms/step - loss: 0.0287 - last_time_step_mse: 0.0164 - val_loss: 0.0294 - val_last_time_step_mse: 0.0176\n",
      "Epoch 16/20\n",
      "219/219 [==============================] - 5s 24ms/step - loss: 0.0282 - last_time_step_mse: 0.0159 - val_loss: 0.0289 - val_last_time_step_mse: 0.0175\n",
      "Epoch 17/20\n",
      "219/219 [==============================] - 6s 26ms/step - loss: 0.0279 - last_time_step_mse: 0.0156 - val_loss: 0.0286 - val_last_time_step_mse: 0.0174\n",
      "Epoch 18/20\n",
      "219/219 [==============================] - 6s 27ms/step - loss: 0.0276 - last_time_step_mse: 0.0153 - val_loss: 0.0274 - val_last_time_step_mse: 0.0151\n",
      "Epoch 19/20\n",
      "219/219 [==============================] - 6s 29ms/step - loss: 0.0271 - last_time_step_mse: 0.0145 - val_loss: 0.0266 - val_last_time_step_mse: 0.0146\n",
      "Epoch 20/20\n",
      "219/219 [==============================] - 7s 32ms/step - loss: 0.0272 - last_time_step_mse: 0.0147 - val_loss: 0.0315 - val_last_time_step_mse: 0.0210\n"
     ]
    }
   ],
   "source": [
    "# 배치 정규화 사용한 심층 RNN\n",
    "model = keras.models.Sequential([\n",
    "    keras.layers.SimpleRNN(20, return_sequences=True, input_shape=[None, 1]),\n",
    "    keras.layers.BatchNormalization(),\n",
    "    keras.layers.SimpleRNN(20, return_sequences=True),\n",
    "    keras.layers.BatchNormalization(),\n",
    "    keras.layers.TimeDistributed(keras.layers.Dense(10))\n",
    "])\n",
    "\n",
    "model.compile(loss=\"mse\", optimizer=\"adam\", metrics=[last_time_step_mse])\n",
    "history = model.fit(X_train, Y_train, epochs=20,\n",
    "                    validation_data=(X_valid, Y_valid))"
   ]
  },
  {
   "cell_type": "code",
   "execution_count": 106,
   "id": "b5042c94",
   "metadata": {},
   "outputs": [
    {
     "name": "stdout",
     "output_type": "stream",
     "text": [
      "63/63 [==============================] - 1s 10ms/step - loss: 0.0315 - last_time_step_mse: 0.0210\n"
     ]
    },
    {
     "data": {
      "text/plain": [
       "[0.031494203954935074, 0.02101447433233261]"
      ]
     },
     "execution_count": 106,
     "metadata": {},
     "output_type": "execute_result"
    }
   ],
   "source": [
    "model.evaluate(X_valid, Y_valid)"
   ]
  },
  {
   "cell_type": "code",
   "execution_count": 107,
   "id": "a78e5566",
   "metadata": {},
   "outputs": [
    {
     "name": "stdout",
     "output_type": "stream",
     "text": [
      "32/32 [==============================] - 1s 9ms/step\n"
     ]
    },
    {
     "data": {
      "text/plain": [
       "0.03146015"
      ]
     },
     "execution_count": 107,
     "metadata": {},
     "output_type": "execute_result"
    }
   ],
   "source": [
    "y_pred = model.predict(X_test)\n",
    "np.mean(keras.losses.mean_squared_error(Y_test,y_pred))"
   ]
  },
  {
   "cell_type": "markdown",
   "id": "f3c2018f",
   "metadata": {},
   "source": [
    "### 긴 시퀀스 다루기\n",
    "* 배치 정규화가 DNN에서는 효과적이지만, RNN에서는 효율적이지 않다.\n",
    "* 타임 스텝 사이에 사용할 수 없고, 순환층 사이에서만 이용가능하다는 문제\n",
    "* 층 정규화 방식 채택 : 특성 차원에 대하여 정규화\n",
    "    * 입력과 은닉 상태의 선형 조합 직후에 사용, 스케일과 이동 파라미터가 하나씩 학습"
   ]
  },
  {
   "cell_type": "code",
   "execution_count": 70,
   "id": "009ac405",
   "metadata": {},
   "outputs": [],
   "source": [
    "from tensorflow.keras.layers import LayerNormalization"
   ]
  },
  {
   "cell_type": "code",
   "execution_count": 71,
   "id": "0a8fce2c",
   "metadata": {},
   "outputs": [],
   "source": [
    "class LNSimpleRNNCell(keras.layers.Layer) :\n",
    "    def __init__(self, units, activation='tanh', **kwargs) :\n",
    "        super().__init__(**kwargs)\n",
    "        self.state_size = units # 이전 타임 스텝 은닉\n",
    "        self.output_size = units\n",
    "        # 활성화함수 없이 SimpleRNNCell -> 선형 연산 후와 활성화 함수 전 층 정규화 수행하기 위해\n",
    "        self.simple_rnn_cell = keras.layers.SimpleRNNCell(units, activation=None)\n",
    "        self.layer_norm = LayerNormalization()\n",
    "        self.activation = keras.activations.get(activation)\n",
    "        \n",
    "    def get_initial_state(self, inputs = None, batch_size=None, dtype=None) :\n",
    "        if inputs is not None :\n",
    "            batch_size = tf.shape(inputs)[0]\n",
    "            dtype = inputs.dtype\n",
    "        return [tf.zeros([batch_size, self.state_size], dtype=dtype)]\n",
    "    \n",
    "    def call(self, inputs, states) :\n",
    "        outputs, new_states = self.simple_rnn_cell(inputs, states) # SimpleRNNCell에서 출력은 은닉상태와 동일(new_state[0]=outputs)\n",
    "        norm_outputs = self.activation(self.layer_norm(outputs))\n",
    "        return norm_outputs, [norm_outputs] # 출력, 새로운 은닉 상태"
   ]
  },
  {
   "cell_type": "code",
   "execution_count": 72,
   "id": "de47638e",
   "metadata": {},
   "outputs": [],
   "source": [
    "model = keras.models.Sequential([\n",
    "    keras.layers.RNN(LNSimpleRNNCell(20), return_sequences=True, input_shape=[None,1]),\n",
    "    keras.layers.RNN(LNSimpleRNNCell(20), return_sequences=True),\n",
    "    keras.layers.TimeDistributed(keras.layers.Dense(10))\n",
    "])"
   ]
  },
  {
   "cell_type": "code",
   "execution_count": 108,
   "id": "3c384e9c",
   "metadata": {},
   "outputs": [
    {
     "name": "stdout",
     "output_type": "stream",
     "text": [
      "Epoch 1/20\n",
      "219/219 [==============================] - 11s 33ms/step - loss: 0.0271 - last_time_step_mse: 0.0146 - val_loss: 0.0262 - val_last_time_step_mse: 0.0139\n",
      "Epoch 2/20\n",
      "219/219 [==============================] - 6s 27ms/step - loss: 0.0265 - last_time_step_mse: 0.0139 - val_loss: 0.0273 - val_last_time_step_mse: 0.0156\n",
      "Epoch 3/20\n",
      "219/219 [==============================] - 5s 24ms/step - loss: 0.0263 - last_time_step_mse: 0.0136 - val_loss: 0.0324 - val_last_time_step_mse: 0.0225\n",
      "Epoch 4/20\n",
      "219/219 [==============================] - 6s 26ms/step - loss: 0.0262 - last_time_step_mse: 0.0135 - val_loss: 0.0257 - val_last_time_step_mse: 0.0129\n",
      "Epoch 5/20\n",
      "219/219 [==============================] - 5s 23ms/step - loss: 0.0259 - last_time_step_mse: 0.0131 - val_loss: 0.0257 - val_last_time_step_mse: 0.0131\n",
      "Epoch 6/20\n",
      "219/219 [==============================] - 6s 26ms/step - loss: 0.0256 - last_time_step_mse: 0.0128 - val_loss: 0.0280 - val_last_time_step_mse: 0.0167\n",
      "Epoch 7/20\n",
      "219/219 [==============================] - 6s 26ms/step - loss: 0.0256 - last_time_step_mse: 0.0128 - val_loss: 0.0290 - val_last_time_step_mse: 0.0188\n",
      "Epoch 8/20\n",
      "219/219 [==============================] - 6s 26ms/step - loss: 0.0254 - last_time_step_mse: 0.0127 - val_loss: 0.0280 - val_last_time_step_mse: 0.0158\n",
      "Epoch 9/20\n",
      "219/219 [==============================] - 6s 29ms/step - loss: 0.0253 - last_time_step_mse: 0.0127 - val_loss: 0.0285 - val_last_time_step_mse: 0.0174\n",
      "Epoch 10/20\n",
      "219/219 [==============================] - 7s 34ms/step - loss: 0.0251 - last_time_step_mse: 0.0124 - val_loss: 0.0256 - val_last_time_step_mse: 0.0136\n",
      "Epoch 11/20\n",
      "219/219 [==============================] - 7s 33ms/step - loss: 0.0250 - last_time_step_mse: 0.0123 - val_loss: 0.0247 - val_last_time_step_mse: 0.0123\n",
      "Epoch 12/20\n",
      "219/219 [==============================] - 9s 39ms/step - loss: 0.0249 - last_time_step_mse: 0.0122 - val_loss: 0.0266 - val_last_time_step_mse: 0.0155\n",
      "Epoch 13/20\n",
      "219/219 [==============================] - 8s 36ms/step - loss: 0.0248 - last_time_step_mse: 0.0121 - val_loss: 0.0264 - val_last_time_step_mse: 0.0142\n",
      "Epoch 14/20\n",
      "219/219 [==============================] - 7s 32ms/step - loss: 0.0248 - last_time_step_mse: 0.0121 - val_loss: 0.0275 - val_last_time_step_mse: 0.0157\n",
      "Epoch 15/20\n",
      "219/219 [==============================] - 6s 29ms/step - loss: 0.0247 - last_time_step_mse: 0.0120 - val_loss: 0.0247 - val_last_time_step_mse: 0.0122\n",
      "Epoch 16/20\n",
      "219/219 [==============================] - 6s 27ms/step - loss: 0.0245 - last_time_step_mse: 0.0117 - val_loss: 0.0252 - val_last_time_step_mse: 0.0131\n",
      "Epoch 17/20\n",
      "219/219 [==============================] - 6s 25ms/step - loss: 0.0245 - last_time_step_mse: 0.0117 - val_loss: 0.0287 - val_last_time_step_mse: 0.0186\n",
      "Epoch 18/20\n",
      "219/219 [==============================] - 5s 25ms/step - loss: 0.0245 - last_time_step_mse: 0.0118 - val_loss: 0.0244 - val_last_time_step_mse: 0.0113\n",
      "Epoch 19/20\n",
      "219/219 [==============================] - 5s 24ms/step - loss: 0.0243 - last_time_step_mse: 0.0116 - val_loss: 0.0262 - val_last_time_step_mse: 0.0149\n",
      "Epoch 20/20\n",
      "219/219 [==============================] - 5s 25ms/step - loss: 0.0242 - last_time_step_mse: 0.0114 - val_loss: 0.0250 - val_last_time_step_mse: 0.0128\n"
     ]
    }
   ],
   "source": [
    "model.compile(loss='mse', optimizer='adam', metrics=[last_time_step_mse])\n",
    "history = model.fit(X_train, Y_train, epochs=20,\n",
    "                    validation_data=(X_valid, Y_valid))"
   ]
  },
  {
   "cell_type": "code",
   "execution_count": 109,
   "id": "93bfe6cc",
   "metadata": {},
   "outputs": [
    {
     "name": "stdout",
     "output_type": "stream",
     "text": [
      "63/63 [==============================] - 1s 10ms/step - loss: 0.0250 - last_time_step_mse: 0.0128\n"
     ]
    },
    {
     "data": {
      "text/plain": [
       "[0.02497214823961258, 0.012774335220456123]"
      ]
     },
     "execution_count": 109,
     "metadata": {},
     "output_type": "execute_result"
    }
   ],
   "source": [
    "model.evaluate(X_valid, Y_valid)"
   ]
  },
  {
   "cell_type": "markdown",
   "id": "d7ef91a1",
   "metadata": {},
   "source": [
    "### LSTM"
   ]
  },
  {
   "cell_type": "code",
   "execution_count": 110,
   "id": "579eac9e",
   "metadata": {},
   "outputs": [
    {
     "name": "stdout",
     "output_type": "stream",
     "text": [
      "Epoch 1/20\n",
      "219/219 [==============================] - 19s 61ms/step - loss: 0.0774 - last_time_step_mse: 0.0644 - val_loss: 0.0539 - val_last_time_step_mse: 0.0368\n",
      "Epoch 2/20\n",
      "219/219 [==============================] - 15s 68ms/step - loss: 0.0453 - last_time_step_mse: 0.0261 - val_loss: 0.0382 - val_last_time_step_mse: 0.0182\n",
      "Epoch 3/20\n",
      "219/219 [==============================] - 15s 70ms/step - loss: 0.0360 - last_time_step_mse: 0.0163 - val_loss: 0.0337 - val_last_time_step_mse: 0.0141\n",
      "Epoch 4/20\n",
      "219/219 [==============================] - 12s 54ms/step - loss: 0.0326 - last_time_step_mse: 0.0135 - val_loss: 0.0310 - val_last_time_step_mse: 0.0123\n",
      "Epoch 5/20\n",
      "219/219 [==============================] - 11s 48ms/step - loss: 0.0307 - last_time_step_mse: 0.0123 - val_loss: 0.0294 - val_last_time_step_mse: 0.0112\n",
      "Epoch 6/20\n",
      "219/219 [==============================] - 10s 47ms/step - loss: 0.0294 - last_time_step_mse: 0.0116 - val_loss: 0.0286 - val_last_time_step_mse: 0.0113\n",
      "Epoch 7/20\n",
      "219/219 [==============================] - 12s 53ms/step - loss: 0.0285 - last_time_step_mse: 0.0111 - val_loss: 0.0281 - val_last_time_step_mse: 0.0120\n",
      "Epoch 8/20\n",
      "219/219 [==============================] - 12s 56ms/step - loss: 0.0278 - last_time_step_mse: 0.0107 - val_loss: 0.0273 - val_last_time_step_mse: 0.0109\n",
      "Epoch 9/20\n",
      "219/219 [==============================] - 15s 70ms/step - loss: 0.0272 - last_time_step_mse: 0.0104 - val_loss: 0.0266 - val_last_time_step_mse: 0.0101\n",
      "Epoch 10/20\n",
      "219/219 [==============================] - 17s 78ms/step - loss: 0.0267 - last_time_step_mse: 0.0102 - val_loss: 0.0261 - val_last_time_step_mse: 0.0095\n",
      "Epoch 11/20\n",
      "219/219 [==============================] - 14s 64ms/step - loss: 0.0263 - last_time_step_mse: 0.0100 - val_loss: 0.0260 - val_last_time_step_mse: 0.0100\n",
      "Epoch 12/20\n",
      "219/219 [==============================] - 11s 51ms/step - loss: 0.0259 - last_time_step_mse: 0.0097 - val_loss: 0.0251 - val_last_time_step_mse: 0.0091\n",
      "Epoch 13/20\n",
      "219/219 [==============================] - 11s 49ms/step - loss: 0.0255 - last_time_step_mse: 0.0096 - val_loss: 0.0248 - val_last_time_step_mse: 0.0093\n",
      "Epoch 14/20\n",
      "219/219 [==============================] - 9s 43ms/step - loss: 0.0252 - last_time_step_mse: 0.0093 - val_loss: 0.0246 - val_last_time_step_mse: 0.0090\n",
      "Epoch 15/20\n",
      "219/219 [==============================] - 10s 45ms/step - loss: 0.0249 - last_time_step_mse: 0.0093 - val_loss: 0.0246 - val_last_time_step_mse: 0.0092\n",
      "Epoch 16/20\n",
      "219/219 [==============================] - 11s 48ms/step - loss: 0.0246 - last_time_step_mse: 0.0092 - val_loss: 0.0242 - val_last_time_step_mse: 0.0086\n",
      "Epoch 17/20\n",
      "219/219 [==============================] - 12s 56ms/step - loss: 0.0242 - last_time_step_mse: 0.0088 - val_loss: 0.0236 - val_last_time_step_mse: 0.0086\n",
      "Epoch 18/20\n",
      "219/219 [==============================] - 14s 65ms/step - loss: 0.0240 - last_time_step_mse: 0.0087 - val_loss: 0.0236 - val_last_time_step_mse: 0.0087\n",
      "Epoch 19/20\n",
      "219/219 [==============================] - 16s 73ms/step - loss: 0.0237 - last_time_step_mse: 0.0087 - val_loss: 0.0233 - val_last_time_step_mse: 0.0084\n",
      "Epoch 20/20\n",
      "219/219 [==============================] - 13s 59ms/step - loss: 0.0235 - last_time_step_mse: 0.0087 - val_loss: 0.0242 - val_last_time_step_mse: 0.0089\n"
     ]
    }
   ],
   "source": [
    "model = keras.models.Sequential([\n",
    "    keras.layers.LSTM(20, return_sequences=True, input_shape=[None, 1]),\n",
    "    keras.layers.LSTM(20, return_sequences=True),\n",
    "    keras.layers.TimeDistributed(keras.layers.Dense(10))\n",
    "])\n",
    "\n",
    "model.compile(loss=\"mse\", optimizer=\"adam\", metrics=[last_time_step_mse])\n",
    "history = model.fit(X_train, Y_train, epochs=20,\n",
    "                    validation_data=(X_valid, Y_valid))"
   ]
  },
  {
   "cell_type": "code",
   "execution_count": 111,
   "id": "5b000a9e",
   "metadata": {},
   "outputs": [
    {
     "name": "stdout",
     "output_type": "stream",
     "text": [
      "63/63 [==============================] - 1s 19ms/step - loss: 0.0242 - last_time_step_mse: 0.0089\n"
     ]
    },
    {
     "data": {
      "text/plain": [
       "[0.024193109944462776, 0.008899789303541183]"
      ]
     },
     "execution_count": 111,
     "metadata": {},
     "output_type": "execute_result"
    }
   ],
   "source": [
    "model.evaluate(X_valid, Y_valid)"
   ]
  },
  {
   "cell_type": "markdown",
   "id": "1b340554",
   "metadata": {},
   "source": [
    "### GRU"
   ]
  },
  {
   "cell_type": "code",
   "execution_count": 112,
   "id": "77a3a457",
   "metadata": {},
   "outputs": [],
   "source": [
    "model = keras.models.Sequential([\n",
    "    keras.layers.GRU(20, return_sequences=True, input_shape=[None, 1]),\n",
    "    keras.layers.GRU(20, return_sequences=True),\n",
    "    keras.layers.TimeDistributed(keras.layers.Dense(10))\n",
    "])"
   ]
  },
  {
   "cell_type": "code",
   "execution_count": 113,
   "id": "b6aec4f9",
   "metadata": {},
   "outputs": [
    {
     "name": "stdout",
     "output_type": "stream",
     "text": [
      "Epoch 1/20\n",
      "219/219 [==============================] - 19s 60ms/step - loss: 0.0764 - last_time_step_mse: 0.0690 - val_loss: 0.0521 - val_last_time_step_mse: 0.0416\n",
      "Epoch 2/20\n",
      "219/219 [==============================] - 11s 50ms/step - loss: 0.0485 - last_time_step_mse: 0.0377 - val_loss: 0.0458 - val_last_time_step_mse: 0.0353\n",
      "Epoch 3/20\n",
      "219/219 [==============================] - 12s 54ms/step - loss: 0.0443 - last_time_step_mse: 0.0334 - val_loss: 0.0421 - val_last_time_step_mse: 0.0306\n",
      "Epoch 4/20\n",
      "219/219 [==============================] - 13s 60ms/step - loss: 0.0402 - last_time_step_mse: 0.0285 - val_loss: 0.0392 - val_last_time_step_mse: 0.0274\n",
      "Epoch 5/20\n",
      "219/219 [==============================] - 16s 72ms/step - loss: 0.0357 - last_time_step_mse: 0.0228 - val_loss: 0.0333 - val_last_time_step_mse: 0.0198\n",
      "Epoch 6/20\n",
      "219/219 [==============================] - 19s 88ms/step - loss: 0.0321 - last_time_step_mse: 0.0178 - val_loss: 0.0304 - val_last_time_step_mse: 0.0164\n",
      "Epoch 7/20\n",
      "219/219 [==============================] - 15s 69ms/step - loss: 0.0300 - last_time_step_mse: 0.0154 - val_loss: 0.0287 - val_last_time_step_mse: 0.0141\n",
      "Epoch 8/20\n",
      "219/219 [==============================] - 12s 57ms/step - loss: 0.0287 - last_time_step_mse: 0.0140 - val_loss: 0.0277 - val_last_time_step_mse: 0.0133\n",
      "Epoch 9/20\n",
      "219/219 [==============================] - 12s 55ms/step - loss: 0.0277 - last_time_step_mse: 0.0132 - val_loss: 0.0271 - val_last_time_step_mse: 0.0129\n",
      "Epoch 10/20\n",
      "219/219 [==============================] - 13s 59ms/step - loss: 0.0272 - last_time_step_mse: 0.0127 - val_loss: 0.0263 - val_last_time_step_mse: 0.0118\n",
      "Epoch 11/20\n",
      "219/219 [==============================] - 13s 61ms/step - loss: 0.0265 - last_time_step_mse: 0.0120 - val_loss: 0.0261 - val_last_time_step_mse: 0.0118\n",
      "Epoch 12/20\n",
      "219/219 [==============================] - 17s 76ms/step - loss: 0.0262 - last_time_step_mse: 0.0119 - val_loss: 0.0256 - val_last_time_step_mse: 0.0111\n",
      "Epoch 13/20\n",
      "219/219 [==============================] - 20s 91ms/step - loss: 0.0257 - last_time_step_mse: 0.0115 - val_loss: 0.0254 - val_last_time_step_mse: 0.0112\n",
      "Epoch 14/20\n",
      "219/219 [==============================] - 15s 68ms/step - loss: 0.0253 - last_time_step_mse: 0.0112 - val_loss: 0.0248 - val_last_time_step_mse: 0.0105\n",
      "Epoch 15/20\n",
      "219/219 [==============================] - 15s 68ms/step - loss: 0.0250 - last_time_step_mse: 0.0109 - val_loss: 0.0244 - val_last_time_step_mse: 0.0103\n",
      "Epoch 16/20\n",
      "219/219 [==============================] - 15s 67ms/step - loss: 0.0247 - last_time_step_mse: 0.0107 - val_loss: 0.0245 - val_last_time_step_mse: 0.0103\n",
      "Epoch 17/20\n",
      "219/219 [==============================] - 13s 57ms/step - loss: 0.0244 - last_time_step_mse: 0.0103 - val_loss: 0.0241 - val_last_time_step_mse: 0.0104\n",
      "Epoch 18/20\n",
      "219/219 [==============================] - 25s 115ms/step - loss: 0.0241 - last_time_step_mse: 0.0102 - val_loss: 0.0235 - val_last_time_step_mse: 0.0096\n",
      "Epoch 19/20\n",
      "219/219 [==============================] - 20s 91ms/step - loss: 0.0239 - last_time_step_mse: 0.0101 - val_loss: 0.0234 - val_last_time_step_mse: 0.0100\n",
      "Epoch 20/20\n",
      "219/219 [==============================] - 14s 64ms/step - loss: 0.0236 - last_time_step_mse: 0.0099 - val_loss: 0.0231 - val_last_time_step_mse: 0.0093\n"
     ]
    }
   ],
   "source": [
    "model.compile(loss=\"mse\", optimizer=\"adam\", metrics=[last_time_step_mse])\n",
    "history = model.fit(X_train, Y_train, epochs=20,\n",
    "                    validation_data=(X_valid, Y_valid))"
   ]
  },
  {
   "cell_type": "code",
   "execution_count": 114,
   "id": "62158ca0",
   "metadata": {},
   "outputs": [
    {
     "name": "stdout",
     "output_type": "stream",
     "text": [
      "63/63 [==============================] - 1s 15ms/step - loss: 0.0231 - last_time_step_mse: 0.0093\n"
     ]
    },
    {
     "data": {
      "text/plain": [
       "[0.02308931015431881, 0.009285940788686275]"
      ]
     },
     "execution_count": 114,
     "metadata": {},
     "output_type": "execute_result"
    }
   ],
   "source": [
    "model.evaluate(X_valid, Y_valid)"
   ]
  },
  {
   "cell_type": "markdown",
   "id": "fb9ce2f7",
   "metadata": {},
   "source": [
    "#### 1D 합성곱 층 사용해 시퀀스 처리하기\n",
    "* LSTM, GRU : RNN보다 훨씬 긴 시퀀스 다룰 수 있지만, 매우 제한적인 단기 기억 가짐\n",
    "* 장기 패턴 학습하는 데 어려움\n",
    "* 해결 방법 : 1D 합성곱 층 사용해 입력 시퀀스 짧게 줄임\n",
    "-----------------------\n",
    "* 1 stride + same 패딩으로 1D 합성곱 층 사용하면, 출력 시퀀스 길이는 입력 시퀀스와 같다.\n",
    "* 1보다 큰 stride + valid 패딩 : 출력 시퀀스 < 입력 시퀀스"
   ]
  },
  {
   "cell_type": "code",
   "execution_count": 115,
   "id": "5e4c9040",
   "metadata": {
    "collapsed": true
   },
   "outputs": [
    {
     "name": "stdout",
     "output_type": "stream",
     "text": [
      "Epoch 1/20\n",
      "219/219 [==============================] - 15s 34ms/step - loss: 0.0716 - last_time_step_mse: 0.0636 - val_loss: 0.0454 - val_last_time_step_mse: 0.0365\n",
      "Epoch 2/20\n",
      "219/219 [==============================] - 7s 30ms/step - loss: 0.0380 - last_time_step_mse: 0.0299 - val_loss: 0.0322 - val_last_time_step_mse: 0.0231\n",
      "Epoch 3/20\n",
      "219/219 [==============================] - 7s 33ms/step - loss: 0.0294 - last_time_step_mse: 0.0199 - val_loss: 0.0271 - val_last_time_step_mse: 0.0164\n",
      "Epoch 4/20\n",
      "219/219 [==============================] - 7s 32ms/step - loss: 0.0258 - last_time_step_mse: 0.0149 - val_loss: 0.0243 - val_last_time_step_mse: 0.0131\n",
      "Epoch 5/20\n",
      "219/219 [==============================] - 8s 37ms/step - loss: 0.0242 - last_time_step_mse: 0.0129 - val_loss: 0.0230 - val_last_time_step_mse: 0.0121\n",
      "Epoch 6/20\n",
      "219/219 [==============================] - 9s 42ms/step - loss: 0.0232 - last_time_step_mse: 0.0120 - val_loss: 0.0222 - val_last_time_step_mse: 0.0115\n",
      "Epoch 7/20\n",
      "219/219 [==============================] - 11s 48ms/step - loss: 0.0224 - last_time_step_mse: 0.0113 - val_loss: 0.0216 - val_last_time_step_mse: 0.0105\n",
      "Epoch 8/20\n",
      "219/219 [==============================] - 11s 51ms/step - loss: 0.0219 - last_time_step_mse: 0.0109 - val_loss: 0.0212 - val_last_time_step_mse: 0.0105\n",
      "Epoch 9/20\n",
      "219/219 [==============================] - 10s 45ms/step - loss: 0.0215 - last_time_step_mse: 0.0106 - val_loss: 0.0207 - val_last_time_step_mse: 0.0098\n",
      "Epoch 10/20\n",
      "219/219 [==============================] - 8s 38ms/step - loss: 0.0211 - last_time_step_mse: 0.0103 - val_loss: 0.0205 - val_last_time_step_mse: 0.0097\n",
      "Epoch 11/20\n",
      "219/219 [==============================] - 9s 40ms/step - loss: 0.0208 - last_time_step_mse: 0.0101 - val_loss: 0.0201 - val_last_time_step_mse: 0.0097\n",
      "Epoch 12/20\n",
      "219/219 [==============================] - 9s 39ms/step - loss: 0.0205 - last_time_step_mse: 0.0098 - val_loss: 0.0197 - val_last_time_step_mse: 0.0093\n",
      "Epoch 13/20\n",
      "219/219 [==============================] - 8s 34ms/step - loss: 0.0203 - last_time_step_mse: 0.0097 - val_loss: 0.0195 - val_last_time_step_mse: 0.0090\n",
      "Epoch 14/20\n",
      "219/219 [==============================] - 7s 31ms/step - loss: 0.0200 - last_time_step_mse: 0.0095 - val_loss: 0.0196 - val_last_time_step_mse: 0.0093\n",
      "Epoch 15/20\n",
      "219/219 [==============================] - 7s 32ms/step - loss: 0.0199 - last_time_step_mse: 0.0095 - val_loss: 0.0196 - val_last_time_step_mse: 0.0093\n",
      "Epoch 16/20\n",
      "219/219 [==============================] - 8s 38ms/step - loss: 0.0197 - last_time_step_mse: 0.0093 - val_loss: 0.0196 - val_last_time_step_mse: 0.0095\n",
      "Epoch 17/20\n",
      "219/219 [==============================] - 9s 41ms/step - loss: 0.0195 - last_time_step_mse: 0.0093 - val_loss: 0.0194 - val_last_time_step_mse: 0.0091\n",
      "Epoch 18/20\n",
      "219/219 [==============================] - 10s 44ms/step - loss: 0.0193 - last_time_step_mse: 0.0091 - val_loss: 0.0188 - val_last_time_step_mse: 0.0086\n",
      "Epoch 19/20\n",
      "219/219 [==============================] - 10s 47ms/step - loss: 0.0192 - last_time_step_mse: 0.0089 - val_loss: 0.0187 - val_last_time_step_mse: 0.0085\n",
      "Epoch 20/20\n",
      "219/219 [==============================] - 8s 39ms/step - loss: 0.0190 - last_time_step_mse: 0.0088 - val_loss: 0.0184 - val_last_time_step_mse: 0.0084\n"
     ]
    }
   ],
   "source": [
    "# 합성곱 층으로 시퀀스 길이 줄이면 GRU 층이 더 긴 패턴 감지하는 데 도움\n",
    "# 타깃에서 처음 세 개의 타임 스텝 버리고(커널 크기가 4이므로 합성 곱 층의 첫 출력은 0~3까지 타임 스텝으로 만들어짐)\n",
    "# 두 배로 다운샘플 해야 함\n",
    "model = keras.models.Sequential([\n",
    "    keras.layers.Conv1D(filters=20, kernel_size=4, strides=2, padding=\"valid\",\n",
    "                        input_shape=[None, 1]),\n",
    "    keras.layers.GRU(20, return_sequences=True),\n",
    "    keras.layers.GRU(20, return_sequences=True),\n",
    "    keras.layers.TimeDistributed(keras.layers.Dense(10))\n",
    "])\n",
    "\n",
    "model.compile(loss=\"mse\", optimizer=\"adam\", metrics=[last_time_step_mse])\n",
    "history = model.fit(X_train, Y_train[:, 3::2], epochs=20,\n",
    "                    validation_data=(X_valid, Y_valid[:, 3::2]))\n",
    "# 첫 세 개 타입스텝 버리고, 커널 4, 스트라이드 2 이므로 [0,1,2,3] -> [2, 3, 4, 5]"
   ]
  },
  {
   "cell_type": "code",
   "execution_count": 118,
   "id": "5f0fdf3e",
   "metadata": {},
   "outputs": [
    {
     "name": "stdout",
     "output_type": "stream",
     "text": [
      "63/63 [==============================] - 0s 6ms/step - loss: 0.0184 - last_time_step_mse: 0.0084\n"
     ]
    },
    {
     "data": {
      "text/plain": [
       "[0.01838657073676586, 0.008430030196905136]"
      ]
     },
     "execution_count": 118,
     "metadata": {},
     "output_type": "execute_result"
    }
   ],
   "source": [
    "model.evaluate(X_valid, Y_valid[:, 3::2]) # 가장 좋은 성능"
   ]
  },
  {
   "cell_type": "markdown",
   "id": "ea736242",
   "metadata": {},
   "source": [
    "#### WAVENET"
   ]
  },
  {
   "cell_type": "code",
   "execution_count": 119,
   "id": "fa47b484",
   "metadata": {},
   "outputs": [
    {
     "name": "stdout",
     "output_type": "stream",
     "text": [
      "Epoch 1/20\n",
      "219/219 [==============================] - 10s 28ms/step - loss: 0.0693 - last_time_step_mse: 0.0588 - val_loss: 0.0381 - val_last_time_step_mse: 0.0249\n",
      "Epoch 2/20\n",
      "219/219 [==============================] - 6s 25ms/step - loss: 0.0351 - last_time_step_mse: 0.0218 - val_loss: 0.0322 - val_last_time_step_mse: 0.0188\n",
      "Epoch 3/20\n",
      "219/219 [==============================] - 5s 23ms/step - loss: 0.0311 - last_time_step_mse: 0.0182 - val_loss: 0.0293 - val_last_time_step_mse: 0.0165\n",
      "Epoch 4/20\n",
      "219/219 [==============================] - 5s 21ms/step - loss: 0.0284 - last_time_step_mse: 0.0160 - val_loss: 0.0270 - val_last_time_step_mse: 0.0149\n",
      "Epoch 5/20\n",
      "219/219 [==============================] - 4s 20ms/step - loss: 0.0268 - last_time_step_mse: 0.0146 - val_loss: 0.0263 - val_last_time_step_mse: 0.0147\n",
      "Epoch 6/20\n",
      "219/219 [==============================] - 4s 19ms/step - loss: 0.0257 - last_time_step_mse: 0.0139 - val_loss: 0.0257 - val_last_time_step_mse: 0.0141\n",
      "Epoch 7/20\n",
      "219/219 [==============================] - 4s 19ms/step - loss: 0.0250 - last_time_step_mse: 0.0133 - val_loss: 0.0247 - val_last_time_step_mse: 0.0132\n",
      "Epoch 8/20\n",
      "219/219 [==============================] - 4s 18ms/step - loss: 0.0243 - last_time_step_mse: 0.0127 - val_loss: 0.0235 - val_last_time_step_mse: 0.0119\n",
      "Epoch 9/20\n",
      "219/219 [==============================] - 4s 18ms/step - loss: 0.0238 - last_time_step_mse: 0.0122 - val_loss: 0.0239 - val_last_time_step_mse: 0.0122\n",
      "Epoch 10/20\n",
      "219/219 [==============================] - 4s 18ms/step - loss: 0.0232 - last_time_step_mse: 0.0115 - val_loss: 0.0228 - val_last_time_step_mse: 0.0110\n",
      "Epoch 11/20\n",
      "219/219 [==============================] - 4s 17ms/step - loss: 0.0227 - last_time_step_mse: 0.0111 - val_loss: 0.0224 - val_last_time_step_mse: 0.0104\n",
      "Epoch 12/20\n",
      "219/219 [==============================] - 4s 16ms/step - loss: 0.0224 - last_time_step_mse: 0.0109 - val_loss: 0.0223 - val_last_time_step_mse: 0.0107\n",
      "Epoch 13/20\n",
      "219/219 [==============================] - 4s 16ms/step - loss: 0.0222 - last_time_step_mse: 0.0108 - val_loss: 0.0214 - val_last_time_step_mse: 0.0099\n",
      "Epoch 14/20\n",
      "219/219 [==============================] - 4s 17ms/step - loss: 0.0218 - last_time_step_mse: 0.0103 - val_loss: 0.0217 - val_last_time_step_mse: 0.0105\n",
      "Epoch 15/20\n",
      "219/219 [==============================] - 4s 18ms/step - loss: 0.0215 - last_time_step_mse: 0.0099 - val_loss: 0.0211 - val_last_time_step_mse: 0.0093\n",
      "Epoch 16/20\n",
      "219/219 [==============================] - 4s 18ms/step - loss: 0.0213 - last_time_step_mse: 0.0098 - val_loss: 0.0208 - val_last_time_step_mse: 0.0093\n",
      "Epoch 17/20\n",
      "219/219 [==============================] - 4s 18ms/step - loss: 0.0211 - last_time_step_mse: 0.0097 - val_loss: 0.0208 - val_last_time_step_mse: 0.0095\n",
      "Epoch 18/20\n",
      "219/219 [==============================] - 4s 19ms/step - loss: 0.0209 - last_time_step_mse: 0.0093 - val_loss: 0.0205 - val_last_time_step_mse: 0.0090\n",
      "Epoch 19/20\n",
      "219/219 [==============================] - 4s 19ms/step - loss: 0.0207 - last_time_step_mse: 0.0092 - val_loss: 0.0205 - val_last_time_step_mse: 0.0093\n",
      "Epoch 20/20\n",
      "219/219 [==============================] - 4s 20ms/step - loss: 0.0205 - last_time_step_mse: 0.0091 - val_loss: 0.0204 - val_last_time_step_mse: 0.0093\n"
     ]
    }
   ],
   "source": [
    "model = keras.models.Sequential()\n",
    "model.add(keras.layers.InputLayer(input_shape=[None, 1]))\n",
    "for rate in (1, 2, 4, 8) * 2:\n",
    "    model.add(keras.layers.Conv1D(filters=20, kernel_size=2, padding=\"causal\",\n",
    "                                  activation=\"relu\", dilation_rate=rate))\n",
    "    # 미래 시퀀스 훔쳐보지 않음 (= 입력의 왼쪽에 0 패딩 + valid 패딩)\n",
    "model.add(keras.layers.Conv1D(filters=10, kernel_size=1))\n",
    "model.compile(loss=\"mse\", optimizer=\"adam\", metrics=[last_time_step_mse])\n",
    "history = model.fit(X_train, Y_train, epochs=20,\n",
    "                    validation_data=(X_valid, Y_valid))"
   ]
  },
  {
   "cell_type": "code",
   "execution_count": 120,
   "id": "f0d62349",
   "metadata": {},
   "outputs": [
    {
     "name": "stdout",
     "output_type": "stream",
     "text": [
      "63/63 [==============================] - 0s 5ms/step - loss: 0.0204 - last_time_step_mse: 0.0093\n"
     ]
    },
    {
     "data": {
      "text/plain": [
       "[0.020382121205329895, 0.009263787418603897]"
      ]
     },
     "execution_count": 120,
     "metadata": {},
     "output_type": "execute_result"
    }
   ],
   "source": [
    "model.evaluate(X_valid, Y_valid) # 좋은 성능"
   ]
  },
  {
   "cell_type": "code",
   "execution_count": null,
   "id": "30327ab7",
   "metadata": {},
   "outputs": [],
   "source": []
  }
 ],
 "metadata": {
  "kernelspec": {
   "display_name": "Python 3 (ipykernel)",
   "language": "python",
   "name": "python3"
  },
  "language_info": {
   "codemirror_mode": {
    "name": "ipython",
    "version": 3
   },
   "file_extension": ".py",
   "mimetype": "text/x-python",
   "name": "python",
   "nbconvert_exporter": "python",
   "pygments_lexer": "ipython3",
   "version": "3.11.4"
  }
 },
 "nbformat": 4,
 "nbformat_minor": 5
}
