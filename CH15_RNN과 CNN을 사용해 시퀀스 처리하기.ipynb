{
 "cells": [
  {
   "cell_type": "markdown",
   "id": "94f5cecb",
   "metadata": {},
   "source": [
    "### 시계열 예측하기"
   ]
  },
  {
   "cell_type": "code",
   "execution_count": 12,
   "id": "3d51b9da",
   "metadata": {},
   "outputs": [
    {
     "name": "stderr",
     "output_type": "stream",
     "text": [
      "C:\\Users\\knuyh\\anaconda3\\Lib\\site-packages\\pandas\\core\\arrays\\masked.py:60: UserWarning: Pandas requires version '1.3.6' or newer of 'bottleneck' (version '1.3.5' currently installed).\n",
      "  from pandas.core import (\n"
     ]
    }
   ],
   "source": [
    "import numpy as np\n",
    "from tensorflow import keras\n",
    "import tensorflow as tf"
   ]
  },
  {
   "cell_type": "code",
   "execution_count": 4,
   "id": "b95ab4d9",
   "metadata": {},
   "outputs": [],
   "source": [
    "def generate_time_series(batch_size, n_steps) : # 단변량\n",
    "    freq1, freq2, offsets1, offsets2 = np.random.rand(4, batch_size, 1)\n",
    "    time = np.linspace(0, 1, n_steps)\n",
    "    series = 0.5 * np.sin((time - offsets1) * (freq1 * 10 + 10)) # 사인 곡선1\n",
    "    series += 0.2 * np.sin((time - offsets2) * (freq2 * 20 + 20)) # +사인 곡선2\n",
    "    series += 0.1 * (np.random.rand(batch_size, n_steps) - 0.5) # +잡읍\n",
    "    return series[..., np.newaxis].astype(np.float32) # (배치크기, 타임스텝수, 1) 크기 반환"
   ]
  },
  {
   "cell_type": "code",
   "execution_count": 5,
   "id": "8a3625ae",
   "metadata": {},
   "outputs": [],
   "source": [
    "n_steps = 50\n",
    "series = generate_time_series(10000, n_steps + 1)\n",
    "X_train, y_train = series[:7000, :n_steps], series[:7000, -1]\n",
    "X_valid, y_valid = series[7000:9000, :n_steps], series[7000:9000, -1]\n",
    "X_test, y_test = series[9000:, :n_steps], series[9000:, -1]"
   ]
  },
  {
   "cell_type": "code",
   "execution_count": 7,
   "id": "9abb97a7",
   "metadata": {},
   "outputs": [
    {
     "data": {
      "text/plain": [
       "((7000, 50, 1), (7000, 1))"
      ]
     },
     "execution_count": 7,
     "metadata": {},
     "output_type": "execute_result"
    }
   ],
   "source": [
    "X_train.shape, y_train.shape"
   ]
  },
  {
   "cell_type": "code",
   "execution_count": 23,
   "id": "8d7ff08b",
   "metadata": {},
   "outputs": [
    {
     "data": {
      "text/plain": [
       "0.020684227"
      ]
     },
     "execution_count": 23,
     "metadata": {},
     "output_type": "execute_result"
    }
   ],
   "source": [
    "# 기준 성능 - 순진한 예측 : 각 시계열의 마지막 값 그대로 예측\n",
    "y_pred = X_valid[:, -1] # (2000, 1)\n",
    "np.mean(keras.losses.mean_squared_error(y_valid, y_pred))"
   ]
  },
  {
   "cell_type": "code",
   "execution_count": 14,
   "id": "136e5f55",
   "metadata": {
    "collapsed": true
   },
   "outputs": [
    {
     "name": "stdout",
     "output_type": "stream",
     "text": [
      "Epoch 1/20\n",
      "219/219 [==============================] - 9s 20ms/step - loss: 0.1056 - val_loss: 0.0453\n",
      "Epoch 2/20\n",
      "219/219 [==============================] - 2s 10ms/step - loss: 0.0305 - val_loss: 0.0244\n",
      "Epoch 3/20\n",
      "219/219 [==============================] - 3s 12ms/step - loss: 0.0177 - val_loss: 0.0151\n",
      "Epoch 4/20\n",
      "219/219 [==============================] - 3s 13ms/step - loss: 0.0120 - val_loss: 0.0108\n",
      "Epoch 5/20\n",
      "219/219 [==============================] - 3s 13ms/step - loss: 0.0093 - val_loss: 0.0086\n",
      "Epoch 6/20\n",
      "219/219 [==============================] - 3s 12ms/step - loss: 0.0078 - val_loss: 0.0074\n",
      "Epoch 7/20\n",
      "219/219 [==============================] - 2s 9ms/step - loss: 0.0069 - val_loss: 0.0064\n",
      "Epoch 8/20\n",
      "219/219 [==============================] - 3s 12ms/step - loss: 0.0061 - val_loss: 0.0058\n",
      "Epoch 9/20\n",
      "219/219 [==============================] - 2s 7ms/step - loss: 0.0056 - val_loss: 0.0053\n",
      "Epoch 10/20\n",
      "219/219 [==============================] - 3s 12ms/step - loss: 0.0051 - val_loss: 0.0049\n",
      "Epoch 11/20\n",
      "219/219 [==============================] - 2s 8ms/step - loss: 0.0048 - val_loss: 0.0046\n",
      "Epoch 12/20\n",
      "219/219 [==============================] - 3s 13ms/step - loss: 0.0045 - val_loss: 0.0043\n",
      "Epoch 13/20\n",
      "219/219 [==============================] - 2s 8ms/step - loss: 0.0043 - val_loss: 0.0041\n",
      "Epoch 14/20\n",
      "219/219 [==============================] - 2s 9ms/step - loss: 0.0042 - val_loss: 0.0040\n",
      "Epoch 15/20\n",
      "219/219 [==============================] - 2s 8ms/step - loss: 0.0041 - val_loss: 0.0040\n",
      "Epoch 16/20\n",
      "219/219 [==============================] - 2s 8ms/step - loss: 0.0040 - val_loss: 0.0039\n",
      "Epoch 17/20\n",
      "219/219 [==============================] - 2s 9ms/step - loss: 0.0039 - val_loss: 0.0039\n",
      "Epoch 18/20\n",
      "219/219 [==============================] - 2s 8ms/step - loss: 0.0038 - val_loss: 0.0037\n",
      "Epoch 19/20\n",
      "219/219 [==============================] - 2s 10ms/step - loss: 0.0037 - val_loss: 0.0036\n",
      "Epoch 20/20\n",
      "219/219 [==============================] - 2s 8ms/step - loss: 0.0037 - val_loss: 0.0035\n"
     ]
    }
   ],
   "source": [
    "# 완전 연결 네트워크 이용 - 선형 예측\n",
    "model = keras.models.Sequential([\n",
    "    keras.layers.Flatten(input_shape = [50, 1]),\n",
    "    keras.layers.Dense(1)\n",
    "])\n",
    "\n",
    "model.compile(loss=\"mse\", optimizer=\"adam\")\n",
    "history = model.fit(X_train, y_train, epochs=20,\n",
    "                    validation_data=(X_valid, y_valid))"
   ]
  },
  {
   "cell_type": "code",
   "execution_count": 16,
   "id": "21885acc",
   "metadata": {},
   "outputs": [
    {
     "name": "stdout",
     "output_type": "stream",
     "text": [
      "63/63 [==============================] - 1s 7ms/step - loss: 0.0035\n"
     ]
    },
    {
     "data": {
      "text/plain": [
       "0.003547875676304102"
      ]
     },
     "execution_count": 16,
     "metadata": {},
     "output_type": "execute_result"
    }
   ],
   "source": [
    "model.evaluate(X_valid, y_valid)"
   ]
  },
  {
   "cell_type": "code",
   "execution_count": 17,
   "id": "208657a2",
   "metadata": {
    "collapsed": true
   },
   "outputs": [
    {
     "name": "stdout",
     "output_type": "stream",
     "text": [
      "Epoch 1/20\n",
      "219/219 [==============================] - 16s 47ms/step - loss: 0.0444 - val_loss: 0.0168\n",
      "Epoch 2/20\n",
      "219/219 [==============================] - 9s 41ms/step - loss: 0.0126 - val_loss: 0.0121\n",
      "Epoch 3/20\n",
      "219/219 [==============================] - 9s 39ms/step - loss: 0.0115 - val_loss: 0.0118\n",
      "Epoch 4/20\n",
      "219/219 [==============================] - 8s 37ms/step - loss: 0.0113 - val_loss: 0.0115\n",
      "Epoch 5/20\n",
      "219/219 [==============================] - 7s 30ms/step - loss: 0.0111 - val_loss: 0.0115\n",
      "Epoch 6/20\n",
      "219/219 [==============================] - 7s 30ms/step - loss: 0.0111 - val_loss: 0.0114\n",
      "Epoch 7/20\n",
      "219/219 [==============================] - 5s 23ms/step - loss: 0.0111 - val_loss: 0.0114\n",
      "Epoch 8/20\n",
      "219/219 [==============================] - 6s 25ms/step - loss: 0.0111 - val_loss: 0.0114\n",
      "Epoch 9/20\n",
      "219/219 [==============================] - 6s 27ms/step - loss: 0.0111 - val_loss: 0.0114\n",
      "Epoch 10/20\n",
      "219/219 [==============================] - 6s 27ms/step - loss: 0.0111 - val_loss: 0.0115\n",
      "Epoch 11/20\n",
      "219/219 [==============================] - 7s 30ms/step - loss: 0.0111 - val_loss: 0.0115\n",
      "Epoch 12/20\n",
      "219/219 [==============================] - 8s 38ms/step - loss: 0.0111 - val_loss: 0.0114\n",
      "Epoch 13/20\n",
      "219/219 [==============================] - 9s 41ms/step - loss: 0.0111 - val_loss: 0.0114\n",
      "Epoch 14/20\n",
      "219/219 [==============================] - 9s 43ms/step - loss: 0.0111 - val_loss: 0.0115\n",
      "Epoch 15/20\n",
      "219/219 [==============================] - 8s 37ms/step - loss: 0.0112 - val_loss: 0.0115\n",
      "Epoch 16/20\n",
      "219/219 [==============================] - 7s 34ms/step - loss: 0.0111 - val_loss: 0.0114\n",
      "Epoch 17/20\n",
      "219/219 [==============================] - 8s 34ms/step - loss: 0.0111 - val_loss: 0.0114\n",
      "Epoch 18/20\n",
      "219/219 [==============================] - 7s 32ms/step - loss: 0.0112 - val_loss: 0.0114\n",
      "Epoch 19/20\n",
      "219/219 [==============================] - 6s 29ms/step - loss: 0.0112 - val_loss: 0.0114\n",
      "Epoch 20/20\n",
      "219/219 [==============================] - 6s 28ms/step - loss: 0.0111 - val_loss: 0.0114\n"
     ]
    }
   ],
   "source": [
    "# 간단한 RNN 구현하기\n",
    "model = keras.models.Sequential([\n",
    "    keras.layers.SimpleRNN(1, input_shape=[None, 1])\n",
    "])\n",
    "# RNN은 어떤 길이의 타임 스텝도 처리할 수 있기에, 입력 시퀀스의 길이 지정할 필요 없다.\n",
    "\n",
    "optimizer = keras.optimizers.Adam(learning_rate=0.005)\n",
    "model.compile(loss=\"mse\", optimizer=optimizer)\n",
    "history = model.fit(X_train, y_train, epochs=20,\n",
    "                    validation_data=(X_valid, y_valid))"
   ]
  },
  {
   "cell_type": "code",
   "execution_count": 18,
   "id": "7e6217fc",
   "metadata": {},
   "outputs": [
    {
     "name": "stdout",
     "output_type": "stream",
     "text": [
      "63/63 [==============================] - 1s 10ms/step - loss: 0.0114\n"
     ]
    },
    {
     "data": {
      "text/plain": [
       "0.011437698267400265"
      ]
     },
     "execution_count": 18,
     "metadata": {},
     "output_type": "execute_result"
    }
   ],
   "source": [
    "model.evaluate(X_valid, y_valid)"
   ]
  },
  {
   "cell_type": "code",
   "execution_count": 19,
   "id": "02b8a9ad",
   "metadata": {
    "collapsed": true
   },
   "outputs": [
    {
     "name": "stdout",
     "output_type": "stream",
     "text": [
      "Epoch 1/20\n",
      "219/219 [==============================] - 14s 43ms/step - loss: 0.0311 - val_loss: 0.0078\n",
      "Epoch 2/20\n",
      "219/219 [==============================] - 10s 44ms/step - loss: 0.0060 - val_loss: 0.0050\n",
      "Epoch 3/20\n",
      "219/219 [==============================] - 9s 41ms/step - loss: 0.0050 - val_loss: 0.0049\n",
      "Epoch 4/20\n",
      "219/219 [==============================] - 8s 36ms/step - loss: 0.0043 - val_loss: 0.0042\n",
      "Epoch 5/20\n",
      "219/219 [==============================] - 8s 35ms/step - loss: 0.0039 - val_loss: 0.0042\n",
      "Epoch 6/20\n",
      "219/219 [==============================] - 7s 32ms/step - loss: 0.0036 - val_loss: 0.0037\n",
      "Epoch 7/20\n",
      "219/219 [==============================] - 7s 33ms/step - loss: 0.0037 - val_loss: 0.0036\n",
      "Epoch 8/20\n",
      "219/219 [==============================] - 7s 33ms/step - loss: 0.0036 - val_loss: 0.0036\n",
      "Epoch 9/20\n",
      "219/219 [==============================] - 8s 38ms/step - loss: 0.0035 - val_loss: 0.0039\n",
      "Epoch 10/20\n",
      "219/219 [==============================] - 9s 42ms/step - loss: 0.0035 - val_loss: 0.0032\n",
      "Epoch 11/20\n",
      "219/219 [==============================] - 10s 47ms/step - loss: 0.0034 - val_loss: 0.0033\n",
      "Epoch 12/20\n",
      "219/219 [==============================] - 10s 47ms/step - loss: 0.0034 - val_loss: 0.0035\n",
      "Epoch 13/20\n",
      "219/219 [==============================] - 8s 37ms/step - loss: 0.0033 - val_loss: 0.0033\n",
      "Epoch 14/20\n",
      "219/219 [==============================] - 8s 37ms/step - loss: 0.0033 - val_loss: 0.0035\n",
      "Epoch 15/20\n",
      "219/219 [==============================] - 7s 31ms/step - loss: 0.0031 - val_loss: 0.0031\n",
      "Epoch 16/20\n",
      "219/219 [==============================] - 8s 35ms/step - loss: 0.0031 - val_loss: 0.0031\n",
      "Epoch 17/20\n",
      "219/219 [==============================] - 9s 41ms/step - loss: 0.0031 - val_loss: 0.0030\n",
      "Epoch 18/20\n",
      "219/219 [==============================] - 10s 46ms/step - loss: 0.0030 - val_loss: 0.0029\n",
      "Epoch 19/20\n",
      "219/219 [==============================] - 11s 52ms/step - loss: 0.0031 - val_loss: 0.0029\n",
      "Epoch 20/20\n",
      "219/219 [==============================] - 14s 63ms/step - loss: 0.0030 - val_loss: 0.0037\n"
     ]
    }
   ],
   "source": [
    "# 심층 RNN\n",
    "model = keras.models.Sequential([\n",
    "    keras.layers.SimpleRNN(20, return_sequences=True, input_shape=[None, 1]),\n",
    "    keras.layers.SimpleRNN(20, return_sequences=True),\n",
    "    keras.layers.SimpleRNN(1)\n",
    "])\n",
    "\n",
    "model.compile(loss=\"mse\", optimizer=\"adam\")\n",
    "history = model.fit(X_train, y_train, epochs=20,\n",
    "                    validation_data=(X_valid, y_valid))"
   ]
  },
  {
   "cell_type": "code",
   "execution_count": 20,
   "id": "8201f78b",
   "metadata": {},
   "outputs": [
    {
     "name": "stdout",
     "output_type": "stream",
     "text": [
      "63/63 [==============================] - 1s 19ms/step - loss: 0.0037\n"
     ]
    },
    {
     "data": {
      "text/plain": [
       "0.0037151025608181953"
      ]
     },
     "execution_count": 20,
     "metadata": {},
     "output_type": "execute_result"
    }
   ],
   "source": [
    "model.evaluate(X_valid, y_valid) "
   ]
  },
  {
   "cell_type": "code",
   "execution_count": 22,
   "id": "821fcb35",
   "metadata": {
    "collapsed": true
   },
   "outputs": [
    {
     "name": "stdout",
     "output_type": "stream",
     "text": [
      "Epoch 1/20\n",
      "219/219 [==============================] - 8s 26ms/step - loss: 0.0136 - val_loss: 0.0048\n",
      "Epoch 2/20\n",
      "219/219 [==============================] - 5s 21ms/step - loss: 0.0043 - val_loss: 0.0039\n",
      "Epoch 3/20\n",
      "219/219 [==============================] - 5s 22ms/step - loss: 0.0038 - val_loss: 0.0039\n",
      "Epoch 4/20\n",
      "219/219 [==============================] - 5s 24ms/step - loss: 0.0036 - val_loss: 0.0034\n",
      "Epoch 5/20\n",
      "219/219 [==============================] - 6s 28ms/step - loss: 0.0035 - val_loss: 0.0034\n",
      "Epoch 6/20\n",
      "219/219 [==============================] - 6s 27ms/step - loss: 0.0034 - val_loss: 0.0033\n",
      "Epoch 7/20\n",
      "219/219 [==============================] - 8s 37ms/step - loss: 0.0033 - val_loss: 0.0037\n",
      "Epoch 8/20\n",
      "219/219 [==============================] - 8s 37ms/step - loss: 0.0032 - val_loss: 0.0031\n",
      "Epoch 9/20\n",
      "219/219 [==============================] - 7s 33ms/step - loss: 0.0032 - val_loss: 0.0031\n",
      "Epoch 10/20\n",
      "219/219 [==============================] - 10s 44ms/step - loss: 0.0032 - val_loss: 0.0032\n",
      "Epoch 11/20\n",
      "219/219 [==============================] - 8s 38ms/step - loss: 0.0030 - val_loss: 0.0029\n",
      "Epoch 12/20\n",
      "219/219 [==============================] - 8s 34ms/step - loss: 0.0030 - val_loss: 0.0029\n",
      "Epoch 13/20\n",
      "219/219 [==============================] - 6s 27ms/step - loss: 0.0030 - val_loss: 0.0030\n",
      "Epoch 14/20\n",
      "219/219 [==============================] - 6s 26ms/step - loss: 0.0030 - val_loss: 0.0033\n",
      "Epoch 15/20\n",
      "219/219 [==============================] - 5s 25ms/step - loss: 0.0029 - val_loss: 0.0030\n",
      "Epoch 16/20\n",
      "219/219 [==============================] - 5s 24ms/step - loss: 0.0029 - val_loss: 0.0027\n",
      "Epoch 17/20\n",
      "219/219 [==============================] - 5s 22ms/step - loss: 0.0029 - val_loss: 0.0028\n",
      "Epoch 18/20\n",
      "219/219 [==============================] - 5s 23ms/step - loss: 0.0029 - val_loss: 0.0029\n",
      "Epoch 19/20\n",
      "219/219 [==============================] - 5s 25ms/step - loss: 0.0028 - val_loss: 0.0028\n",
      "Epoch 20/20\n",
      "219/219 [==============================] - 6s 27ms/step - loss: 0.0029 - val_loss: 0.0029\n"
     ]
    }
   ],
   "source": [
    "# 기본적으로 tanh 활성화 함수 사용, 다른 활성화 함수 사용\n",
    "model = keras.models.Sequential([\n",
    "    keras.layers.SimpleRNN(20, return_sequences=True, input_shape=[None, 1]),\n",
    "    keras.layers.SimpleRNN(20),\n",
    "    keras.layers.Dense(1)\n",
    "])\n",
    "\n",
    "model.compile(loss=\"mse\", optimizer=\"adam\")\n",
    "history = model.fit(X_train, y_train, epochs=20,\n",
    "                    validation_data=(X_valid, y_valid))"
   ]
  },
  {
   "cell_type": "code",
   "execution_count": 24,
   "id": "96e67fa0",
   "metadata": {},
   "outputs": [
    {
     "name": "stdout",
     "output_type": "stream",
     "text": [
      "63/63 [==============================] - 1s 10ms/step - loss: 0.0029\n"
     ]
    },
    {
     "data": {
      "text/plain": [
       "0.0029373790603131056"
      ]
     },
     "execution_count": 24,
     "metadata": {},
     "output_type": "execute_result"
    }
   ],
   "source": [
    "model.evaluate(X_valid, y_valid)"
   ]
  },
  {
   "cell_type": "markdown",
   "id": "956c558c",
   "metadata": {},
   "source": [
    "MSE로 보는  \n",
    "성능 : 순진한 예측 < 간단한 RNN < 선형 모델 < 심층 RNN < 출력층 Dense"
   ]
  },
  {
   "cell_type": "code",
   "execution_count": 26,
   "id": "76143205",
   "metadata": {},
   "outputs": [
    {
     "name": "stdout",
     "output_type": "stream",
     "text": [
      "1/1 [==============================] - 1s 1s/step\n",
      "1/1 [==============================] - 0s 42ms/step\n",
      "1/1 [==============================] - 0s 36ms/step\n",
      "1/1 [==============================] - 0s 36ms/step\n",
      "1/1 [==============================] - 0s 36ms/step\n",
      "1/1 [==============================] - 0s 32ms/step\n",
      "1/1 [==============================] - 0s 34ms/step\n",
      "1/1 [==============================] - 0s 46ms/step\n",
      "1/1 [==============================] - 0s 33ms/step\n",
      "1/1 [==============================] - 0s 43ms/step\n"
     ]
    }
   ],
   "source": [
    "# 여러 타임 스텝 앞을 예측하기\n",
    "series = generate_time_series(1, n_steps + 10)\n",
    "X_new, Y_new = series[:, :n_steps], series[:, n_steps:]\n",
    "X = X_new\n",
    "\n",
    "for step_ahead in range(10) :\n",
    "    y_pred_one = model.predict(X[:, step_ahead:])[:, np.newaxis, :]\n",
    "    X = np.concatenate([X, y_pred_one], axis=1)"
   ]
  },
  {
   "cell_type": "code",
   "execution_count": 29,
   "id": "e9c41fe9",
   "metadata": {},
   "outputs": [
    {
     "data": {
      "text/plain": [
       "(1, 10, 1)"
      ]
     },
     "execution_count": 29,
     "metadata": {},
     "output_type": "execute_result"
    }
   ],
   "source": [
    "Y_pred = X[:, n_steps:]\n",
    "Y_pred.shape"
   ]
  },
  {
   "cell_type": "code",
   "execution_count": null,
   "id": "a9e88d48",
   "metadata": {},
   "outputs": [],
   "source": []
  },
  {
   "cell_type": "code",
   "execution_count": null,
   "id": "c24df9ec",
   "metadata": {},
   "outputs": [],
   "source": []
  },
  {
   "cell_type": "code",
   "execution_count": null,
   "id": "9ae03d4e",
   "metadata": {},
   "outputs": [],
   "source": []
  },
  {
   "cell_type": "code",
   "execution_count": null,
   "id": "710703f6",
   "metadata": {},
   "outputs": [],
   "source": []
  },
  {
   "cell_type": "code",
   "execution_count": null,
   "id": "639d46e9",
   "metadata": {},
   "outputs": [],
   "source": []
  },
  {
   "cell_type": "code",
   "execution_count": null,
   "id": "2440349e",
   "metadata": {},
   "outputs": [],
   "source": []
  },
  {
   "cell_type": "code",
   "execution_count": null,
   "id": "2988dee3",
   "metadata": {},
   "outputs": [],
   "source": []
  },
  {
   "cell_type": "code",
   "execution_count": null,
   "id": "c50f0c76",
   "metadata": {},
   "outputs": [],
   "source": []
  },
  {
   "cell_type": "code",
   "execution_count": null,
   "id": "7c8dcd09",
   "metadata": {},
   "outputs": [],
   "source": []
  },
  {
   "cell_type": "code",
   "execution_count": null,
   "id": "7dd98b91",
   "metadata": {},
   "outputs": [],
   "source": []
  },
  {
   "cell_type": "code",
   "execution_count": null,
   "id": "64bd9c24",
   "metadata": {},
   "outputs": [],
   "source": []
  },
  {
   "cell_type": "code",
   "execution_count": null,
   "id": "46722163",
   "metadata": {},
   "outputs": [],
   "source": []
  },
  {
   "cell_type": "code",
   "execution_count": null,
   "id": "72cc2cf6",
   "metadata": {},
   "outputs": [],
   "source": []
  },
  {
   "cell_type": "code",
   "execution_count": null,
   "id": "0372cd28",
   "metadata": {},
   "outputs": [],
   "source": []
  },
  {
   "cell_type": "code",
   "execution_count": null,
   "id": "6bd4a8f3",
   "metadata": {},
   "outputs": [],
   "source": []
  },
  {
   "cell_type": "code",
   "execution_count": null,
   "id": "9ebe53d5",
   "metadata": {},
   "outputs": [],
   "source": []
  },
  {
   "cell_type": "code",
   "execution_count": null,
   "id": "4963227a",
   "metadata": {},
   "outputs": [],
   "source": []
  },
  {
   "cell_type": "code",
   "execution_count": null,
   "id": "a66ade01",
   "metadata": {},
   "outputs": [],
   "source": []
  },
  {
   "cell_type": "code",
   "execution_count": null,
   "id": "6ef4770d",
   "metadata": {},
   "outputs": [],
   "source": []
  },
  {
   "cell_type": "code",
   "execution_count": null,
   "id": "0582fdac",
   "metadata": {},
   "outputs": [],
   "source": []
  },
  {
   "cell_type": "code",
   "execution_count": null,
   "id": "6785e302",
   "metadata": {},
   "outputs": [],
   "source": []
  },
  {
   "cell_type": "code",
   "execution_count": null,
   "id": "9776babf",
   "metadata": {},
   "outputs": [],
   "source": []
  },
  {
   "cell_type": "code",
   "execution_count": null,
   "id": "110c8c4a",
   "metadata": {},
   "outputs": [],
   "source": []
  },
  {
   "cell_type": "code",
   "execution_count": null,
   "id": "afd65e1e",
   "metadata": {},
   "outputs": [],
   "source": []
  },
  {
   "cell_type": "code",
   "execution_count": null,
   "id": "090e5cb7",
   "metadata": {},
   "outputs": [],
   "source": []
  },
  {
   "cell_type": "code",
   "execution_count": null,
   "id": "305f41c2",
   "metadata": {},
   "outputs": [],
   "source": []
  },
  {
   "cell_type": "code",
   "execution_count": null,
   "id": "b9440796",
   "metadata": {},
   "outputs": [],
   "source": []
  },
  {
   "cell_type": "code",
   "execution_count": null,
   "id": "5307aed3",
   "metadata": {},
   "outputs": [],
   "source": []
  },
  {
   "cell_type": "code",
   "execution_count": null,
   "id": "e84b207a",
   "metadata": {},
   "outputs": [],
   "source": []
  }
 ],
 "metadata": {
  "kernelspec": {
   "display_name": "Python 3 (ipykernel)",
   "language": "python",
   "name": "python3"
  },
  "language_info": {
   "codemirror_mode": {
    "name": "ipython",
    "version": 3
   },
   "file_extension": ".py",
   "mimetype": "text/x-python",
   "name": "python",
   "nbconvert_exporter": "python",
   "pygments_lexer": "ipython3",
   "version": "3.11.4"
  }
 },
 "nbformat": 4,
 "nbformat_minor": 5
}
