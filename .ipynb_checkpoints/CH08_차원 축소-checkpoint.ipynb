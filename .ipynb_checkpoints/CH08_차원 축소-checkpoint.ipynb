{
 "cells": [
  {
   "cell_type": "markdown",
   "id": "ec5092a5",
   "metadata": {},
   "source": [
    "주성분 분석"
   ]
  },
  {
   "cell_type": "code",
   "execution_count": 2,
   "id": "529c0840",
   "metadata": {},
   "outputs": [],
   "source": [
    "# 특이값 분해(SVD) 아용해 훈련셋 주성분 모두 구하기\n",
    "import numpy as np\n",
    "np.random.seed(4)\n",
    "m = 60\n",
    "w1, w2 = 0.1, 0.3\n",
    "noise = 0.1\n",
    "\n",
    "angles = np.random.rand(m) * 3 * np.pi / 2 - 0.5\n",
    "X = np.empty((m, 3))\n",
    "X[:, 0] = np.cos(angles) + np.sin(angles)/2 + noise * np.random.randn(m) / 2\n",
    "X[:, 1] = np.sin(angles) * 0.7 + noise * np.random.randn(m) / 2\n",
    "X[:, 2] = X[:, 0] * w1 + X[:, 1] * w2 + noise * np.random.randn(m)"
   ]
  },
  {
   "cell_type": "code",
   "execution_count": 9,
   "id": "dfff382f",
   "metadata": {},
   "outputs": [],
   "source": [
    "X_centered = X - X.mean(axis=0)\n",
    "U, s, Vt = np.linalg.svd(X_centered)\n",
    "c1 = Vt.T[:, 0] # PC1\n",
    "c2 = Vt.T[:, 1] # PC2"
   ]
  },
  {
   "cell_type": "code",
   "execution_count": 24,
   "id": "593890ef",
   "metadata": {},
   "outputs": [
    {
     "data": {
      "text/plain": [
       "array([0.93636116, 0.29854881, 0.18465208])"
      ]
     },
     "execution_count": 24,
     "metadata": {},
     "output_type": "execute_result"
    }
   ],
   "source": [
    "c1"
   ]
  },
  {
   "cell_type": "code",
   "execution_count": 13,
   "id": "4e158da1",
   "metadata": {},
   "outputs": [],
   "source": [
    "m, n = X.shape # (60, 3)\n",
    "\n",
    "S = np.zeros(X_centered.shape)\n",
    "S[:n, :n] = np.diag(s) # 대각성분 / 주 대각선 방향에만 있고, 나머진 0"
   ]
  },
  {
   "cell_type": "code",
   "execution_count": 15,
   "id": "590bd505",
   "metadata": {},
   "outputs": [
    {
     "data": {
      "text/plain": [
       "True"
      ]
     },
     "execution_count": 15,
     "metadata": {},
     "output_type": "execute_result"
    }
   ],
   "source": [
    "np.allclose(X_centered, U.dot(S).dot(Vt)) # 동일한지"
   ]
  },
  {
   "cell_type": "code",
   "execution_count": 19,
   "id": "25dcb10f",
   "metadata": {},
   "outputs": [],
   "source": [
    "# 첫 두개 주성분으로 정의된 평면에 훈련셋 투영\n",
    "W2 = Vt.T[:, :2]\n",
    "X2D = X_centered.dot(W2)"
   ]
  },
  {
   "cell_type": "code",
   "execution_count": 20,
   "id": "381ed929",
   "metadata": {
    "collapsed": true
   },
   "outputs": [
    {
     "data": {
      "text/plain": [
       "array([[-1.26203346, -0.42067648],\n",
       "       [ 0.08001485,  0.35272239],\n",
       "       [-1.17545763, -0.36085729],\n",
       "       [-0.89305601,  0.30862856],\n",
       "       [-0.73016287,  0.25404049],\n",
       "       [ 1.10436914, -0.20204953],\n",
       "       [-1.27265808, -0.46781247],\n",
       "       [ 0.44933007, -0.67736663],\n",
       "       [ 1.09356195,  0.04467792],\n",
       "       [ 0.66177325,  0.28651264],\n",
       "       [-1.04466138,  0.11244353],\n",
       "       [ 1.05932502, -0.31189109],\n",
       "       [-1.13761426, -0.14576655],\n",
       "       [-1.16044117, -0.36481599],\n",
       "       [ 1.00167625, -0.39422008],\n",
       "       [-0.2750406 ,  0.34391089],\n",
       "       [ 0.45624787, -0.69707573],\n",
       "       [ 0.79706574,  0.26870969],\n",
       "       [ 0.66924929, -0.65520024],\n",
       "       [-1.30679728, -0.37671343],\n",
       "       [ 0.6626586 ,  0.32706423],\n",
       "       [-1.25387588, -0.56043928],\n",
       "       [-1.04046987,  0.08727672],\n",
       "       [-1.26047729, -0.1571074 ],\n",
       "       [ 1.09786649, -0.38643428],\n",
       "       [ 0.7130973 , -0.64941523],\n",
       "       [-0.17786909,  0.43609071],\n",
       "       [ 1.02975735, -0.33747452],\n",
       "       [-0.94552283,  0.22833268],\n",
       "       [ 0.80994916,  0.33810729],\n",
       "       [ 0.20189175,  0.3514758 ],\n",
       "       [-1.34219411, -0.42415687],\n",
       "       [ 0.13599883,  0.37258632],\n",
       "       [ 0.8206931 , -0.55120835],\n",
       "       [ 0.90818634, -0.31869127],\n",
       "       [ 0.06703671,  0.42486148],\n",
       "       [ 0.13936893,  0.41906961],\n",
       "       [-0.37356775,  0.27320849],\n",
       "       [ 0.7312441 ,  0.23441131],\n",
       "       [-0.5230355 ,  0.46621776],\n",
       "       [ 0.86146183,  0.30212526],\n",
       "       [-0.33203239,  0.47352674],\n",
       "       [-0.99467436,  0.18342807],\n",
       "       [ 1.04520043, -0.32697207],\n",
       "       [ 0.87477048,  0.18062856],\n",
       "       [ 0.30457923,  0.43904343],\n",
       "       [-0.63685997,  0.32851826],\n",
       "       [ 1.1287259 , -0.11627335],\n",
       "       [ 0.03836205,  0.49036349],\n",
       "       [-0.41386843,  0.31734423],\n",
       "       [-1.32417938, -0.1944472 ],\n",
       "       [ 0.92968677,  0.18429606],\n",
       "       [-0.40274964,  0.34154025],\n",
       "       [ 1.11480941, -0.24138847],\n",
       "       [ 0.31915065,  0.27787663],\n",
       "       [ 1.02666316, -0.34676546],\n",
       "       [-1.24145806, -0.35049349],\n",
       "       [ 0.66770361,  0.32262317],\n",
       "       [-1.16397896,  0.03648137],\n",
       "       [ 0.68326064,  0.22756871]])"
      ]
     },
     "execution_count": 20,
     "metadata": {},
     "output_type": "execute_result"
    }
   ],
   "source": [
    "X2D"
   ]
  },
  {
   "cell_type": "code",
   "execution_count": 21,
   "id": "bd7576d5",
   "metadata": {},
   "outputs": [],
   "source": [
    "# 사이킷런 사용\n",
    "from sklearn.decomposition import PCA\n",
    "\n",
    "pca = PCA(n_components = 2)\n",
    "X2D = pca.fit_transform(X)"
   ]
  },
  {
   "cell_type": "code",
   "execution_count": 22,
   "id": "16d773b8",
   "metadata": {},
   "outputs": [
    {
     "data": {
      "text/plain": [
       "array([[ 1.26203346,  0.42067648],\n",
       "       [-0.08001485, -0.35272239],\n",
       "       [ 1.17545763,  0.36085729],\n",
       "       [ 0.89305601, -0.30862856],\n",
       "       [ 0.73016287, -0.25404049]])"
      ]
     },
     "execution_count": 22,
     "metadata": {},
     "output_type": "execute_result"
    }
   ],
   "source": [
    "X2D[:5] # 사이킷런은 양쪽 축이 뒤집힌다.(SVD와 부호만 다름)"
   ]
  },
  {
   "cell_type": "code",
   "execution_count": 23,
   "id": "24ede819",
   "metadata": {},
   "outputs": [
    {
     "data": {
      "text/plain": [
       "array([-0.93636116, -0.29854881, -0.18465208])"
      ]
     },
     "execution_count": 23,
     "metadata": {},
     "output_type": "execute_result"
    }
   ],
   "source": [
    "pca.components_.T[:,0]  # PC1 단위벡터"
   ]
  },
  {
   "cell_type": "code",
   "execution_count": 26,
   "id": "a84c4b59",
   "metadata": {},
   "outputs": [
    {
     "data": {
      "text/plain": [
       "array([0.84248607, 0.14631839])"
      ]
     },
     "execution_count": 26,
     "metadata": {},
     "output_type": "execute_result"
    }
   ],
   "source": [
    "# 설명된 분산의 비율\n",
    "pca.explained_variance_ratio_\n",
    "\n",
    "# 데이터셋 분산의 84.2%가 첫 번째 PC를 따라 놓여 있고, 14.6%가 두 번째 PC를 따라 놓여있다."
   ]
  },
  {
   "cell_type": "code",
   "execution_count": 29,
   "id": "e4f97ff4",
   "metadata": {},
   "outputs": [
    {
     "name": "stderr",
     "output_type": "stream",
     "text": [
      "C:\\Users\\knuyh\\anaconda3\\Lib\\site-packages\\sklearn\\datasets\\_openml.py:1002: FutureWarning: The default value of `parser` will change from `'liac-arff'` to `'auto'` in 1.4. You can set `parser='auto'` to silence this warning. Therefore, an `ImportError` will be raised from 1.4 if the dataset is dense and pandas is not installed. Note that the pandas parser may return different data types. See the Notes Section in fetch_openml's API doc for details.\n",
      "  warn(\n"
     ]
    },
    {
     "data": {
      "text/plain": [
       "153"
      ]
     },
     "execution_count": 29,
     "metadata": {},
     "output_type": "execute_result"
    }
   ],
   "source": [
    "# 적절한 차원 수 선택하기\n",
    "from sklearn.datasets import fetch_openml\n",
    "\n",
    "mnist = fetch_openml('mnist_784', version=1, as_frame=False)\n",
    "mnist.target = mnist.target.astype(np.uint8)\n",
    "\n",
    "from sklearn.model_selection import train_test_split\n",
    "\n",
    "X = mnist[\"data\"]\n",
    "y = mnist[\"target\"]\n",
    "\n",
    "X_train, X_test, y_train, y_test = train_test_split(X, y)\n",
    "\n",
    "\n",
    "pca = PCA()\n",
    "pca.fit(X_train)\n",
    "cumsum = np.cumsum(pca.explained_variance_ratio_) # 누적합\n",
    "d = np.argmax(cumsum>=0.95) + 1\n",
    "d"
   ]
  },
  {
   "cell_type": "code",
   "execution_count": 30,
   "id": "0333c53d",
   "metadata": {
    "collapsed": true
   },
   "outputs": [
    {
     "data": {
      "text/plain": [
       "array([0.09792858, 0.16918255, 0.23058781, 0.28488202, 0.33394139,\n",
       "       0.37697755, 0.40965576, 0.43855474, 0.46609225, 0.48952161,\n",
       "       0.51047203, 0.5308378 , 0.54786123, 0.56475213, 0.5806216 ,\n",
       "       0.5954588 , 0.60867273, 0.6214041 , 0.63328935, 0.64482663,\n",
       "       0.65548608, 0.6656263 , 0.67523811, 0.68437167, 0.69322418,\n",
       "       0.70162074, 0.70970978, 0.71757011, 0.7249473 , 0.73182003,\n",
       "       0.73834683, 0.74479121, 0.7508099 , 0.75671383, 0.76238186,\n",
       "       0.76783612, 0.77286595, 0.77773048, 0.78251842, 0.78719169,\n",
       "       0.79174491, 0.79619636, 0.80036573, 0.8043255 , 0.80815976,\n",
       "       0.81190639, 0.81551796, 0.81899999, 0.8223805 , 0.82558925,\n",
       "       0.82876061, 0.83185067, 0.83483074, 0.83769869, 0.84052413,\n",
       "       0.84321858, 0.84590974, 0.84848407, 0.85102041, 0.85345062,\n",
       "       0.85585449, 0.85823931, 0.86052105, 0.86273756, 0.86485904,\n",
       "       0.86693298, 0.86895776, 0.87091498, 0.87282984, 0.87472256,\n",
       "       0.87658385, 0.87836792, 0.8801357 , 0.88186572, 0.8835084 ,\n",
       "       0.88514093, 0.88675302, 0.88829861, 0.8897762 , 0.89119348,\n",
       "       0.89260552, 0.89400957, 0.89540562, 0.8967549 , 0.89808427,\n",
       "       0.89940009, 0.90068494, 0.90193172, 0.9031605 , 0.90436732,\n",
       "       0.90553149, 0.9066768 , 0.90780303, 0.90889652, 0.9099825 ,\n",
       "       0.91105171, 0.91208923, 0.913119  , 0.91412948, 0.91512743,\n",
       "       0.91609819, 0.91704207, 0.9179794 , 0.91889208, 0.91979057,\n",
       "       0.92068419, 0.92154501, 0.92239915, 0.9232437 , 0.92406225,\n",
       "       0.92485053, 0.92562922, 0.9264014 , 0.92716508, 0.92792581,\n",
       "       0.92867526, 0.92940653, 0.93013026, 0.9308447 , 0.93154878,\n",
       "       0.93224362, 0.93293457, 0.93360833, 0.93427963, 0.93494038,\n",
       "       0.93558558, 0.93621845, 0.93684925, 0.93746945, 0.93806949,\n",
       "       0.93866681, 0.93926011, 0.93984812, 0.94043236, 0.9410113 ,\n",
       "       0.94158171, 0.94214396, 0.9426963 , 0.94323115, 0.94375509,\n",
       "       0.94427392, 0.94478635, 0.94528847, 0.94578739, 0.94628231,\n",
       "       0.94677523, 0.94725826, 0.94773817, 0.94820865, 0.9486755 ,\n",
       "       0.9491401 , 0.94960273, 0.95006088, 0.95050874, 0.95095546,\n",
       "       0.95139576, 0.95183222, 0.95225624, 0.95267848, 0.95309459,\n",
       "       0.95350553, 0.9539124 , 0.9543107 , 0.95470537, 0.95509626,\n",
       "       0.95548297, 0.95586297, 0.95623963, 0.95661487, 0.95698447,\n",
       "       0.9573501 , 0.9577154 , 0.95807609, 0.95843219, 0.95878594,\n",
       "       0.95913635, 0.95948344, 0.95982889, 0.96017119, 0.96050927,\n",
       "       0.96084228, 0.96117139, 0.96149669, 0.96182046, 0.96214341,\n",
       "       0.96246456, 0.96277991, 0.96309345, 0.96340249, 0.96370985,\n",
       "       0.96401503, 0.96431676, 0.96461787, 0.9649169 , 0.96521308,\n",
       "       0.96550727, 0.96579956, 0.96609162, 0.9663762 , 0.96665916,\n",
       "       0.96694007, 0.96721587, 0.96749081, 0.96776214, 0.96803056,\n",
       "       0.96829662, 0.96856056, 0.96882281, 0.9690847 , 0.96934272,\n",
       "       0.96960018, 0.96985632, 0.97011177, 0.97036408, 0.97061488,\n",
       "       0.97086279, 0.97110878, 0.9713518 , 0.97159448, 0.97183591,\n",
       "       0.97207538, 0.9723139 , 0.97255048, 0.97278701, 0.97301795,\n",
       "       0.97324725, 0.9734756 , 0.97370262, 0.97392834, 0.97415125,\n",
       "       0.97437227, 0.97459147, 0.97480821, 0.97502423, 0.97523836,\n",
       "       0.97545087, 0.97566188, 0.97587126, 0.97607837, 0.97628384,\n",
       "       0.97648803, 0.97669063, 0.97689168, 0.97709141, 0.97729005,\n",
       "       0.9774874 , 0.97768232, 0.9778751 , 0.97806706, 0.97825823,\n",
       "       0.97844852, 0.97863715, 0.97882319, 0.97900915, 0.97919448,\n",
       "       0.97937896, 0.9795626 , 0.97974521, 0.9799264 , 0.98010553,\n",
       "       0.98028245, 0.9804585 , 0.9806342 , 0.98080757, 0.98098019,\n",
       "       0.98115208, 0.98132182, 0.98149071, 0.98165893, 0.98182556,\n",
       "       0.98199191, 0.98215719, 0.98232083, 0.98248421, 0.98264625,\n",
       "       0.98280667, 0.98296579, 0.98312438, 0.98328143, 0.98343795,\n",
       "       0.98359332, 0.98374817, 0.98390137, 0.98405312, 0.9842043 ,\n",
       "       0.98435406, 0.98450312, 0.98465107, 0.98479724, 0.98494239,\n",
       "       0.98508675, 0.98522975, 0.98537266, 0.9855137 , 0.9856542 ,\n",
       "       0.98579441, 0.98593219, 0.98606943, 0.98620559, 0.98634046,\n",
       "       0.98647486, 0.98660825, 0.98674056, 0.98687276, 0.98700364,\n",
       "       0.98713248, 0.98726086, 0.98738866, 0.98751522, 0.98764138,\n",
       "       0.98776665, 0.98789163, 0.98801573, 0.98813882, 0.98826082,\n",
       "       0.98838212, 0.98850235, 0.98862121, 0.98873996, 0.98885788,\n",
       "       0.98897492, 0.98909108, 0.98920702, 0.98932231, 0.989437  ,\n",
       "       0.98955098, 0.98966234, 0.98977331, 0.98988315, 0.98999237,\n",
       "       0.99010103, 0.99020885, 0.99031635, 0.99042339, 0.99052978,\n",
       "       0.99063528, 0.99074021, 0.99084445, 0.99094729, 0.9910499 ,\n",
       "       0.99115119, 0.99125152, 0.99135178, 0.99145066, 0.99154921,\n",
       "       0.99164721, 0.99174423, 0.99184082, 0.99193529, 0.99202944,\n",
       "       0.99212332, 0.9922164 , 0.99230877, 0.99240001, 0.99249067,\n",
       "       0.99258103, 0.99267058, 0.99275934, 0.99284743, 0.99293471,\n",
       "       0.99302121, 0.99310722, 0.99319278, 0.99327738, 0.99336153,\n",
       "       0.99344503, 0.9935274 , 0.9936094 , 0.99369132, 0.99377206,\n",
       "       0.99385243, 0.9939315 , 0.99400996, 0.99408786, 0.99416528,\n",
       "       0.99424201, 0.99431813, 0.99439349, 0.99446791, 0.99454175,\n",
       "       0.99461513, 0.99468753, 0.99475962, 0.99483115, 0.9949025 ,\n",
       "       0.99497228, 0.9950414 , 0.99511008, 0.99517767, 0.99524474,\n",
       "       0.99531103, 0.99537683, 0.99544106, 0.99550476, 0.99556837,\n",
       "       0.99563166, 0.99569339, 0.99575392, 0.99581378, 0.9958732 ,\n",
       "       0.99593186, 0.99599031, 0.99604803, 0.996105  , 0.99616112,\n",
       "       0.99621704, 0.99627249, 0.9963268 , 0.99638093, 0.99643484,\n",
       "       0.99648745, 0.99653995, 0.99659187, 0.99664325, 0.99669365,\n",
       "       0.99674359, 0.99679313, 0.99684228, 0.99689109, 0.99693914,\n",
       "       0.99698662, 0.99703351, 0.9970801 , 0.99712611, 0.99717108,\n",
       "       0.99721561, 0.99725877, 0.99730107, 0.99734326, 0.99738536,\n",
       "       0.99742657, 0.99746717, 0.99750747, 0.99754754, 0.99758709,\n",
       "       0.99762565, 0.99766386, 0.99770145, 0.997739  , 0.99777606,\n",
       "       0.99781279, 0.99784903, 0.99788409, 0.99791907, 0.99795385,\n",
       "       0.99798829, 0.9980224 , 0.99805629, 0.99808919, 0.99812179,\n",
       "       0.99815368, 0.9981854 , 0.9982165 , 0.99824685, 0.99827667,\n",
       "       0.99830601, 0.99833481, 0.99836346, 0.99839186, 0.99841992,\n",
       "       0.99844725, 0.99847443, 0.99850137, 0.9985279 , 0.99855346,\n",
       "       0.99857861, 0.99860362, 0.99862817, 0.99865238, 0.99867642,\n",
       "       0.99870037, 0.99872414, 0.9987476 , 0.9987707 , 0.99879375,\n",
       "       0.99881646, 0.99883857, 0.99885983, 0.99888102, 0.99890196,\n",
       "       0.99892276, 0.99894327, 0.99896337, 0.99898316, 0.99900257,\n",
       "       0.99902188, 0.99904076, 0.99905942, 0.99907796, 0.9990962 ,\n",
       "       0.9991142 , 0.99913199, 0.99914896, 0.99916575, 0.99918209,\n",
       "       0.9991981 , 0.99921404, 0.9992298 , 0.99924521, 0.99926047,\n",
       "       0.99927562, 0.99929055, 0.99930517, 0.99931931, 0.99933332,\n",
       "       0.9993471 , 0.99936062, 0.99937411, 0.99938723, 0.9994003 ,\n",
       "       0.99941319, 0.99942598, 0.99943825, 0.99945028, 0.99946212,\n",
       "       0.99947388, 0.99948561, 0.99949713, 0.99950852, 0.99951978,\n",
       "       0.99953095, 0.99954202, 0.99955303, 0.99956373, 0.99957408,\n",
       "       0.99958425, 0.99959417, 0.99960378, 0.99961308, 0.99962238,\n",
       "       0.99963147, 0.99964041, 0.99964911, 0.99965749, 0.9996655 ,\n",
       "       0.99967331, 0.99968103, 0.99968867, 0.99969623, 0.99970374,\n",
       "       0.99971122, 0.9997186 , 0.9997259 , 0.99973296, 0.99973995,\n",
       "       0.99974678, 0.99975355, 0.99976002, 0.99976647, 0.99977287,\n",
       "       0.99977901, 0.99978506, 0.99979073, 0.99979612, 0.9998014 ,\n",
       "       0.99980665, 0.99981182, 0.99981684, 0.99982179, 0.99982666,\n",
       "       0.99983149, 0.99983629, 0.99984083, 0.99984532, 0.99984975,\n",
       "       0.99985415, 0.99985847, 0.99986276, 0.99986688, 0.9998708 ,\n",
       "       0.99987468, 0.99987856, 0.99988239, 0.99988577, 0.99988903,\n",
       "       0.99989225, 0.99989546, 0.9998986 , 0.99990173, 0.99990477,\n",
       "       0.99990775, 0.9999107 , 0.99991359, 0.99991643, 0.99991923,\n",
       "       0.9999218 , 0.99992436, 0.99992679, 0.99992903, 0.99993126,\n",
       "       0.99993343, 0.99993555, 0.99993765, 0.99993973, 0.99994179,\n",
       "       0.99994378, 0.99994568, 0.9999475 , 0.99994932, 0.9999511 ,\n",
       "       0.99995286, 0.9999546 , 0.99995623, 0.99995785, 0.99995938,\n",
       "       0.9999609 , 0.99996239, 0.99996377, 0.99996509, 0.99996639,\n",
       "       0.99996763, 0.99996881, 0.99996999, 0.99997115, 0.99997226,\n",
       "       0.99997337, 0.99997446, 0.99997552, 0.99997654, 0.9999775 ,\n",
       "       0.9999784 , 0.99997925, 0.99998009, 0.99998091, 0.99998172,\n",
       "       0.99998251, 0.99998325, 0.99998398, 0.99998465, 0.99998532,\n",
       "       0.99998598, 0.99998663, 0.99998724, 0.99998785, 0.99998841,\n",
       "       0.99998897, 0.9999895 , 0.99999002, 0.99999051, 0.999991  ,\n",
       "       0.99999148, 0.99999193, 0.99999238, 0.9999928 , 0.99999319,\n",
       "       0.99999357, 0.99999394, 0.9999943 , 0.99999466, 0.999995  ,\n",
       "       0.99999531, 0.9999956 , 0.99999589, 0.99999616, 0.99999642,\n",
       "       0.99999668, 0.99999692, 0.99999714, 0.99999734, 0.99999752,\n",
       "       0.9999977 , 0.99999786, 0.99999802, 0.99999816, 0.9999983 ,\n",
       "       0.99999843, 0.99999854, 0.99999865, 0.99999875, 0.99999885,\n",
       "       0.99999895, 0.99999903, 0.99999911, 0.99999919, 0.99999926,\n",
       "       0.99999934, 0.9999994 , 0.99999946, 0.99999951, 0.99999956,\n",
       "       0.99999961, 0.99999965, 0.99999969, 0.99999972, 0.99999976,\n",
       "       0.99999979, 0.99999981, 0.99999983, 0.99999985, 0.99999987,\n",
       "       0.99999989, 0.9999999 , 0.99999991, 0.99999993, 0.99999994,\n",
       "       0.99999995, 0.99999996, 0.99999996, 0.99999997, 0.99999998,\n",
       "       0.99999998, 0.99999999, 0.99999999, 0.99999999, 1.        ,\n",
       "       1.        , 1.        , 1.        , 1.        , 1.        ,\n",
       "       1.        , 1.        , 1.        , 1.        , 1.        ,\n",
       "       1.        , 1.        , 1.        , 1.        , 1.        ,\n",
       "       1.        , 1.        , 1.        , 1.        , 1.        ,\n",
       "       1.        , 1.        , 1.        , 1.        , 1.        ,\n",
       "       1.        , 1.        , 1.        , 1.        , 1.        ,\n",
       "       1.        , 1.        , 1.        , 1.        , 1.        ,\n",
       "       1.        , 1.        , 1.        , 1.        , 1.        ,\n",
       "       1.        , 1.        , 1.        , 1.        , 1.        ,\n",
       "       1.        , 1.        , 1.        , 1.        , 1.        ,\n",
       "       1.        , 1.        , 1.        , 1.        , 1.        ,\n",
       "       1.        , 1.        , 1.        , 1.        , 1.        ,\n",
       "       1.        , 1.        , 1.        , 1.        , 1.        ,\n",
       "       1.        , 1.        , 1.        , 1.        , 1.        ,\n",
       "       1.        , 1.        , 1.        , 1.        , 1.        ,\n",
       "       1.        , 1.        , 1.        , 1.        ])"
      ]
     },
     "execution_count": 30,
     "metadata": {},
     "output_type": "execute_result"
    }
   ],
   "source": [
    "cumsum"
   ]
  },
  {
   "cell_type": "code",
   "execution_count": 31,
   "id": "53992255",
   "metadata": {},
   "outputs": [
    {
     "data": {
      "text/plain": [
       "153"
      ]
     },
     "execution_count": 31,
     "metadata": {},
     "output_type": "execute_result"
    }
   ],
   "source": [
    "pca = PCA(n_components = 0.95)  # 보존하려는 분산의 비율\n",
    "X_reduced = pca.fit_transform(X_train)\n",
    "pca.n_components_"
   ]
  },
  {
   "cell_type": "code",
   "execution_count": 34,
   "id": "8b9b966d",
   "metadata": {},
   "outputs": [
    {
     "data": {
      "text/plain": [
       "(52500, 153)"
      ]
     },
     "execution_count": 34,
     "metadata": {},
     "output_type": "execute_result"
    }
   ],
   "source": [
    "X_reduced.shape"
   ]
  },
  {
   "cell_type": "code",
   "execution_count": 32,
   "id": "42ab4870",
   "metadata": {},
   "outputs": [
    {
     "data": {
      "text/plain": [
       "0.9500608823439146"
      ]
     },
     "execution_count": 32,
     "metadata": {},
     "output_type": "execute_result"
    }
   ],
   "source": [
    "np.sum(pca.explained_variance_ratio_)"
   ]
  },
  {
   "cell_type": "code",
   "execution_count": 43,
   "id": "0003a61c",
   "metadata": {},
   "outputs": [
    {
     "data": {
      "text/plain": [
       "(52500, 784)"
      ]
     },
     "execution_count": 43,
     "metadata": {},
     "output_type": "execute_result"
    }
   ],
   "source": [
    "# 압축한 PCA 복원\n",
    "pca = PCA(n_components=153)\n",
    "X_reduced = pca.fit_transform(X_train)\n",
    "X_recovered = pca.inverse_transform(X_reduced)\n",
    "X_recovered.shape"
   ]
  },
  {
   "cell_type": "code",
   "execution_count": 42,
   "id": "d02000e6",
   "metadata": {},
   "outputs": [
    {
     "data": {
      "text/plain": [
       "(52500, 153)"
      ]
     },
     "execution_count": 42,
     "metadata": {},
     "output_type": "execute_result"
    }
   ],
   "source": [
    "# 랜덤 PCA : 확률적 알고리즘 사용\n",
    "# d << n : SVD보다 빠름\n",
    "rpca = PCA(n_components=153, svd_solver='randomized')\n",
    "X_reduced_r = rpca.fit_transform(X_train)\n",
    "X_reduced_r.shape"
   ]
  },
  {
   "cell_type": "code",
   "execution_count": 44,
   "id": "b10dd9db",
   "metadata": {},
   "outputs": [],
   "source": [
    "# 점진적 PCA - 미니배치로 나눈 뒤 한 번에 하나씩 주입\n",
    "# SVD : 전체 훈련셋을 메모리에 올려야한다는 PCA 문제\n",
    "from sklearn.decomposition import IncrementalPCA\n",
    "\n",
    "n_batches = 100\n",
    "inc_pca = IncrementalPCA(n_components=153)\n",
    "for X_batch in np.array_split(X_train, n_batches) :  # 100개의 미니배치\n",
    "    inc_pca.partial_fit(X_batch)\n",
    "    \n",
    "X_reduced_i = inc_pca.transform(X_train)"
   ]
  },
  {
   "cell_type": "code",
   "execution_count": 45,
   "id": "57125325",
   "metadata": {},
   "outputs": [
    {
     "data": {
      "text/plain": [
       "False"
      ]
     },
     "execution_count": 45,
     "metadata": {},
     "output_type": "execute_result"
    }
   ],
   "source": [
    "np.allclose(X_reduced, X_reduced_i)"
   ]
  },
  {
   "cell_type": "code",
   "execution_count": 46,
   "id": "908de01a",
   "metadata": {},
   "outputs": [],
   "source": [
    "# memmap 사용\n",
    "filename = \"my_mnist.data\"\n",
    "m, n = X_train.shape\n",
    "\n",
    "X_mm = np.memmap(filename, dtype='float32', mode='write', shape=(m, n))\n",
    "X_mm[:] = X_train"
   ]
  },
  {
   "cell_type": "code",
   "execution_count": 47,
   "id": "5b61bc27",
   "metadata": {},
   "outputs": [],
   "source": [
    "del X_mm"
   ]
  },
  {
   "cell_type": "code",
   "execution_count": 48,
   "id": "892d88ad",
   "metadata": {},
   "outputs": [
    {
     "data": {
      "text/html": [
       "<style>#sk-container-id-1 {color: black;}#sk-container-id-1 pre{padding: 0;}#sk-container-id-1 div.sk-toggleable {background-color: white;}#sk-container-id-1 label.sk-toggleable__label {cursor: pointer;display: block;width: 100%;margin-bottom: 0;padding: 0.3em;box-sizing: border-box;text-align: center;}#sk-container-id-1 label.sk-toggleable__label-arrow:before {content: \"▸\";float: left;margin-right: 0.25em;color: #696969;}#sk-container-id-1 label.sk-toggleable__label-arrow:hover:before {color: black;}#sk-container-id-1 div.sk-estimator:hover label.sk-toggleable__label-arrow:before {color: black;}#sk-container-id-1 div.sk-toggleable__content {max-height: 0;max-width: 0;overflow: hidden;text-align: left;background-color: #f0f8ff;}#sk-container-id-1 div.sk-toggleable__content pre {margin: 0.2em;color: black;border-radius: 0.25em;background-color: #f0f8ff;}#sk-container-id-1 input.sk-toggleable__control:checked~div.sk-toggleable__content {max-height: 200px;max-width: 100%;overflow: auto;}#sk-container-id-1 input.sk-toggleable__control:checked~label.sk-toggleable__label-arrow:before {content: \"▾\";}#sk-container-id-1 div.sk-estimator input.sk-toggleable__control:checked~label.sk-toggleable__label {background-color: #d4ebff;}#sk-container-id-1 div.sk-label input.sk-toggleable__control:checked~label.sk-toggleable__label {background-color: #d4ebff;}#sk-container-id-1 input.sk-hidden--visually {border: 0;clip: rect(1px 1px 1px 1px);clip: rect(1px, 1px, 1px, 1px);height: 1px;margin: -1px;overflow: hidden;padding: 0;position: absolute;width: 1px;}#sk-container-id-1 div.sk-estimator {font-family: monospace;background-color: #f0f8ff;border: 1px dotted black;border-radius: 0.25em;box-sizing: border-box;margin-bottom: 0.5em;}#sk-container-id-1 div.sk-estimator:hover {background-color: #d4ebff;}#sk-container-id-1 div.sk-parallel-item::after {content: \"\";width: 100%;border-bottom: 1px solid gray;flex-grow: 1;}#sk-container-id-1 div.sk-label:hover label.sk-toggleable__label {background-color: #d4ebff;}#sk-container-id-1 div.sk-serial::before {content: \"\";position: absolute;border-left: 1px solid gray;box-sizing: border-box;top: 0;bottom: 0;left: 50%;z-index: 0;}#sk-container-id-1 div.sk-serial {display: flex;flex-direction: column;align-items: center;background-color: white;padding-right: 0.2em;padding-left: 0.2em;position: relative;}#sk-container-id-1 div.sk-item {position: relative;z-index: 1;}#sk-container-id-1 div.sk-parallel {display: flex;align-items: stretch;justify-content: center;background-color: white;position: relative;}#sk-container-id-1 div.sk-item::before, #sk-container-id-1 div.sk-parallel-item::before {content: \"\";position: absolute;border-left: 1px solid gray;box-sizing: border-box;top: 0;bottom: 0;left: 50%;z-index: -1;}#sk-container-id-1 div.sk-parallel-item {display: flex;flex-direction: column;z-index: 1;position: relative;background-color: white;}#sk-container-id-1 div.sk-parallel-item:first-child::after {align-self: flex-end;width: 50%;}#sk-container-id-1 div.sk-parallel-item:last-child::after {align-self: flex-start;width: 50%;}#sk-container-id-1 div.sk-parallel-item:only-child::after {width: 0;}#sk-container-id-1 div.sk-dashed-wrapped {border: 1px dashed gray;margin: 0 0.4em 0.5em 0.4em;box-sizing: border-box;padding-bottom: 0.4em;background-color: white;}#sk-container-id-1 div.sk-label label {font-family: monospace;font-weight: bold;display: inline-block;line-height: 1.2em;}#sk-container-id-1 div.sk-label-container {text-align: center;}#sk-container-id-1 div.sk-container {/* jupyter's `normalize.less` sets `[hidden] { display: none; }` but bootstrap.min.css set `[hidden] { display: none !important; }` so we also need the `!important` here to be able to override the default hidden behavior on the sphinx rendered scikit-learn.org. See: https://github.com/scikit-learn/scikit-learn/issues/21755 */display: inline-block !important;position: relative;}#sk-container-id-1 div.sk-text-repr-fallback {display: none;}</style><div id=\"sk-container-id-1\" class=\"sk-top-container\"><div class=\"sk-text-repr-fallback\"><pre>IncrementalPCA(batch_size=525, n_components=154)</pre><b>In a Jupyter environment, please rerun this cell to show the HTML representation or trust the notebook. <br />On GitHub, the HTML representation is unable to render, please try loading this page with nbviewer.org.</b></div><div class=\"sk-container\" hidden><div class=\"sk-item\"><div class=\"sk-estimator sk-toggleable\"><input class=\"sk-toggleable__control sk-hidden--visually\" id=\"sk-estimator-id-1\" type=\"checkbox\" checked><label for=\"sk-estimator-id-1\" class=\"sk-toggleable__label sk-toggleable__label-arrow\">IncrementalPCA</label><div class=\"sk-toggleable__content\"><pre>IncrementalPCA(batch_size=525, n_components=154)</pre></div></div></div></div></div>"
      ],
      "text/plain": [
       "IncrementalPCA(batch_size=525, n_components=154)"
      ]
     },
     "execution_count": 48,
     "metadata": {},
     "output_type": "execute_result"
    }
   ],
   "source": [
    "X_mm = np.memmap(filename, dtype='float32', mode='readonly', shape=(m,n))\n",
    "batch_size = m//n_batches\n",
    "inc_pca = IncrementalPCA(n_components=154, batch_size=batch_size)\n",
    "inc_pca.fit(X_mm)"
   ]
  },
  {
   "cell_type": "markdown",
   "id": "673cbe87",
   "metadata": {},
   "source": [
    "커널 PCA"
   ]
  },
  {
   "cell_type": "code",
   "execution_count": 52,
   "id": "6b707093",
   "metadata": {},
   "outputs": [],
   "source": [
    "from sklearn.datasets import make_swiss_roll\n",
    "\n",
    "X, t = make_swiss_roll(n_samples=1000, noise=0.2, random_state=42)"
   ]
  },
  {
   "cell_type": "code",
   "execution_count": 53,
   "id": "f213db91",
   "metadata": {},
   "outputs": [],
   "source": [
    "from sklearn.decomposition import KernelPCA\n",
    "rbf_pca = KernelPCA(n_components=2, kernel='rbf', gamma=0.04)\n",
    "X_reduced_rbf = rbf_pca.fit_transform(X)"
   ]
  },
  {
   "cell_type": "code",
   "execution_count": 58,
   "id": "e9e44bdf",
   "metadata": {},
   "outputs": [
    {
     "data": {
      "text/plain": [
       "((1000, 3), (1000, 2))"
      ]
     },
     "execution_count": 58,
     "metadata": {},
     "output_type": "execute_result"
    }
   ],
   "source": [
    "X.shape, X_reduced_rbf.shape"
   ]
  },
  {
   "cell_type": "code",
   "execution_count": 64,
   "id": "37dd7df9",
   "metadata": {},
   "outputs": [
    {
     "data": {
      "text/html": [
       "<style>#sk-container-id-2 {color: black;}#sk-container-id-2 pre{padding: 0;}#sk-container-id-2 div.sk-toggleable {background-color: white;}#sk-container-id-2 label.sk-toggleable__label {cursor: pointer;display: block;width: 100%;margin-bottom: 0;padding: 0.3em;box-sizing: border-box;text-align: center;}#sk-container-id-2 label.sk-toggleable__label-arrow:before {content: \"▸\";float: left;margin-right: 0.25em;color: #696969;}#sk-container-id-2 label.sk-toggleable__label-arrow:hover:before {color: black;}#sk-container-id-2 div.sk-estimator:hover label.sk-toggleable__label-arrow:before {color: black;}#sk-container-id-2 div.sk-toggleable__content {max-height: 0;max-width: 0;overflow: hidden;text-align: left;background-color: #f0f8ff;}#sk-container-id-2 div.sk-toggleable__content pre {margin: 0.2em;color: black;border-radius: 0.25em;background-color: #f0f8ff;}#sk-container-id-2 input.sk-toggleable__control:checked~div.sk-toggleable__content {max-height: 200px;max-width: 100%;overflow: auto;}#sk-container-id-2 input.sk-toggleable__control:checked~label.sk-toggleable__label-arrow:before {content: \"▾\";}#sk-container-id-2 div.sk-estimator input.sk-toggleable__control:checked~label.sk-toggleable__label {background-color: #d4ebff;}#sk-container-id-2 div.sk-label input.sk-toggleable__control:checked~label.sk-toggleable__label {background-color: #d4ebff;}#sk-container-id-2 input.sk-hidden--visually {border: 0;clip: rect(1px 1px 1px 1px);clip: rect(1px, 1px, 1px, 1px);height: 1px;margin: -1px;overflow: hidden;padding: 0;position: absolute;width: 1px;}#sk-container-id-2 div.sk-estimator {font-family: monospace;background-color: #f0f8ff;border: 1px dotted black;border-radius: 0.25em;box-sizing: border-box;margin-bottom: 0.5em;}#sk-container-id-2 div.sk-estimator:hover {background-color: #d4ebff;}#sk-container-id-2 div.sk-parallel-item::after {content: \"\";width: 100%;border-bottom: 1px solid gray;flex-grow: 1;}#sk-container-id-2 div.sk-label:hover label.sk-toggleable__label {background-color: #d4ebff;}#sk-container-id-2 div.sk-serial::before {content: \"\";position: absolute;border-left: 1px solid gray;box-sizing: border-box;top: 0;bottom: 0;left: 50%;z-index: 0;}#sk-container-id-2 div.sk-serial {display: flex;flex-direction: column;align-items: center;background-color: white;padding-right: 0.2em;padding-left: 0.2em;position: relative;}#sk-container-id-2 div.sk-item {position: relative;z-index: 1;}#sk-container-id-2 div.sk-parallel {display: flex;align-items: stretch;justify-content: center;background-color: white;position: relative;}#sk-container-id-2 div.sk-item::before, #sk-container-id-2 div.sk-parallel-item::before {content: \"\";position: absolute;border-left: 1px solid gray;box-sizing: border-box;top: 0;bottom: 0;left: 50%;z-index: -1;}#sk-container-id-2 div.sk-parallel-item {display: flex;flex-direction: column;z-index: 1;position: relative;background-color: white;}#sk-container-id-2 div.sk-parallel-item:first-child::after {align-self: flex-end;width: 50%;}#sk-container-id-2 div.sk-parallel-item:last-child::after {align-self: flex-start;width: 50%;}#sk-container-id-2 div.sk-parallel-item:only-child::after {width: 0;}#sk-container-id-2 div.sk-dashed-wrapped {border: 1px dashed gray;margin: 0 0.4em 0.5em 0.4em;box-sizing: border-box;padding-bottom: 0.4em;background-color: white;}#sk-container-id-2 div.sk-label label {font-family: monospace;font-weight: bold;display: inline-block;line-height: 1.2em;}#sk-container-id-2 div.sk-label-container {text-align: center;}#sk-container-id-2 div.sk-container {/* jupyter's `normalize.less` sets `[hidden] { display: none; }` but bootstrap.min.css set `[hidden] { display: none !important; }` so we also need the `!important` here to be able to override the default hidden behavior on the sphinx rendered scikit-learn.org. See: https://github.com/scikit-learn/scikit-learn/issues/21755 */display: inline-block !important;position: relative;}#sk-container-id-2 div.sk-text-repr-fallback {display: none;}</style><div id=\"sk-container-id-2\" class=\"sk-top-container\"><div class=\"sk-text-repr-fallback\"><pre>GridSearchCV(cv=3,\n",
       "             estimator=Pipeline(steps=[(&#x27;kpca&#x27;, KernelPCA(n_components=2)),\n",
       "                                       (&#x27;lr&#x27;, LogisticRegression())]),\n",
       "             param_grid=[{&#x27;kpca__gamma&#x27;: array([0.03      , 0.03222222, 0.03444444, 0.03666667, 0.03888889,\n",
       "       0.04111111, 0.04333333, 0.04555556, 0.04777778, 0.05      ]),\n",
       "                          &#x27;kpca__kernel&#x27;: [&#x27;rbf&#x27;, &#x27;sigmoid&#x27;]}])</pre><b>In a Jupyter environment, please rerun this cell to show the HTML representation or trust the notebook. <br />On GitHub, the HTML representation is unable to render, please try loading this page with nbviewer.org.</b></div><div class=\"sk-container\" hidden><div class=\"sk-item sk-dashed-wrapped\"><div class=\"sk-label-container\"><div class=\"sk-label sk-toggleable\"><input class=\"sk-toggleable__control sk-hidden--visually\" id=\"sk-estimator-id-2\" type=\"checkbox\" ><label for=\"sk-estimator-id-2\" class=\"sk-toggleable__label sk-toggleable__label-arrow\">GridSearchCV</label><div class=\"sk-toggleable__content\"><pre>GridSearchCV(cv=3,\n",
       "             estimator=Pipeline(steps=[(&#x27;kpca&#x27;, KernelPCA(n_components=2)),\n",
       "                                       (&#x27;lr&#x27;, LogisticRegression())]),\n",
       "             param_grid=[{&#x27;kpca__gamma&#x27;: array([0.03      , 0.03222222, 0.03444444, 0.03666667, 0.03888889,\n",
       "       0.04111111, 0.04333333, 0.04555556, 0.04777778, 0.05      ]),\n",
       "                          &#x27;kpca__kernel&#x27;: [&#x27;rbf&#x27;, &#x27;sigmoid&#x27;]}])</pre></div></div></div><div class=\"sk-parallel\"><div class=\"sk-parallel-item\"><div class=\"sk-item\"><div class=\"sk-label-container\"><div class=\"sk-label sk-toggleable\"><input class=\"sk-toggleable__control sk-hidden--visually\" id=\"sk-estimator-id-3\" type=\"checkbox\" ><label for=\"sk-estimator-id-3\" class=\"sk-toggleable__label sk-toggleable__label-arrow\">estimator: Pipeline</label><div class=\"sk-toggleable__content\"><pre>Pipeline(steps=[(&#x27;kpca&#x27;, KernelPCA(n_components=2)),\n",
       "                (&#x27;lr&#x27;, LogisticRegression())])</pre></div></div></div><div class=\"sk-serial\"><div class=\"sk-item\"><div class=\"sk-serial\"><div class=\"sk-item\"><div class=\"sk-estimator sk-toggleable\"><input class=\"sk-toggleable__control sk-hidden--visually\" id=\"sk-estimator-id-4\" type=\"checkbox\" ><label for=\"sk-estimator-id-4\" class=\"sk-toggleable__label sk-toggleable__label-arrow\">KernelPCA</label><div class=\"sk-toggleable__content\"><pre>KernelPCA(n_components=2)</pre></div></div></div><div class=\"sk-item\"><div class=\"sk-estimator sk-toggleable\"><input class=\"sk-toggleable__control sk-hidden--visually\" id=\"sk-estimator-id-5\" type=\"checkbox\" ><label for=\"sk-estimator-id-5\" class=\"sk-toggleable__label sk-toggleable__label-arrow\">LogisticRegression</label><div class=\"sk-toggleable__content\"><pre>LogisticRegression()</pre></div></div></div></div></div></div></div></div></div></div></div></div>"
      ],
      "text/plain": [
       "GridSearchCV(cv=3,\n",
       "             estimator=Pipeline(steps=[('kpca', KernelPCA(n_components=2)),\n",
       "                                       ('lr', LogisticRegression())]),\n",
       "             param_grid=[{'kpca__gamma': array([0.03      , 0.03222222, 0.03444444, 0.03666667, 0.03888889,\n",
       "       0.04111111, 0.04333333, 0.04555556, 0.04777778, 0.05      ]),\n",
       "                          'kpca__kernel': ['rbf', 'sigmoid']}])"
      ]
     },
     "execution_count": 64,
     "metadata": {},
     "output_type": "execute_result"
    }
   ],
   "source": [
    "y = t > 6.9\n",
    "\n",
    "from sklearn.model_selection import GridSearchCV\n",
    "from sklearn.linear_model import LogisticRegression\n",
    "from sklearn.pipeline import Pipeline\n",
    "\n",
    "clf = Pipeline([\n",
    "    ('kpca', KernelPCA(n_components=2)),\n",
    "    ('lr' , LogisticRegression(solver='lbfgs'))\n",
    "])\n",
    "\n",
    "params = [{\n",
    "    'kpca__gamma' : np.linspace(0.03, 0.05, 10),\n",
    "    'kpca__kernel' : ['rbf', 'sigmoid']\n",
    "}]\n",
    "\n",
    "grid = GridSearchCV(clf, params, cv=3)\n",
    "grid.fit(X, y)"
   ]
  },
  {
   "cell_type": "code",
   "execution_count": 65,
   "id": "056aa7d2",
   "metadata": {},
   "outputs": [
    {
     "name": "stdout",
     "output_type": "stream",
     "text": [
      "{'kpca__gamma': 0.043333333333333335, 'kpca__kernel': 'rbf'}\n"
     ]
    }
   ],
   "source": [
    "print(grid.best_params_)"
   ]
  },
  {
   "cell_type": "code",
   "execution_count": 69,
   "id": "14338682",
   "metadata": {},
   "outputs": [],
   "source": [
    "rbf_pca = KernelPCA(n_components=2, kernel='rbf', gamma=0.0433,\n",
    "                   fit_inverse_transform=True) # KernelPCA : inverse_transform 없음\n",
    "X_reduced = rbf_pca.fit_transform(X)\n",
    "X_preimage = rbf_pca.inverse_transform(X_reduced)"
   ]
  },
  {
   "cell_type": "code",
   "execution_count": 71,
   "id": "42945538",
   "metadata": {},
   "outputs": [
    {
     "data": {
      "text/plain": [
       "32.786308795766104"
      ]
     },
     "execution_count": 71,
     "metadata": {},
     "output_type": "execute_result"
    }
   ],
   "source": [
    "# 재구성 원상 오차\n",
    "from sklearn.metrics import mean_squared_error\n",
    "mean_squared_error(X, X_preimage)"
   ]
  },
  {
   "cell_type": "markdown",
   "id": "9b538183",
   "metadata": {},
   "source": [
    "지역 선형 임베딩(LLE) : 투영에 의존하지 않는 매니폴드 학습\n",
    "- 각 훈련샘플이 가장 가까운 이웃에 얼마나 선형적으로 연관되어 있는지 측정"
   ]
  },
  {
   "cell_type": "code",
   "execution_count": 72,
   "id": "ab4c12a6",
   "metadata": {},
   "outputs": [],
   "source": [
    "from sklearn.manifold import LocallyLinearEmbedding\n",
    "lle = LocallyLinearEmbedding(n_components=2, n_neighbors=10)\n",
    "X_reduced_lle = lle.fit_transform(X)"
   ]
  },
  {
   "cell_type": "markdown",
   "id": "94dd1411",
   "metadata": {},
   "source": [
    "# 연습문제"
   ]
  },
  {
   "cell_type": "code",
   "execution_count": 73,
   "id": "971c2337",
   "metadata": {},
   "outputs": [],
   "source": [
    "# 9) MNIST 랜덤포레스트 분류기로 훈련시키고, 모델 평가한 다음\n",
    "# PCA사용해 설명된 분산이 95%가 되도록 차원 축소\n",
    "X_train = mnist['data'][:60000]\n",
    "y_train = mnist['target'][:60000]\n",
    "\n",
    "X_test = mnist['data'][60000:]\n",
    "y_test = mnist['target'][60000:]"
   ]
  },
  {
   "cell_type": "code",
   "execution_count": 74,
   "id": "ac030d1f",
   "metadata": {},
   "outputs": [],
   "source": [
    "from sklearn.ensemble import RandomForestClassifier\n",
    "\n",
    "rnd_clf = RandomForestClassifier(n_estimators=100, random_state=42)"
   ]
  },
  {
   "cell_type": "code",
   "execution_count": 75,
   "id": "30283829",
   "metadata": {},
   "outputs": [
    {
     "name": "stdout",
     "output_type": "stream",
     "text": [
      "Training took 70.51s\n"
     ]
    }
   ],
   "source": [
    "import time\n",
    "\n",
    "t0 = time.time()\n",
    "rnd_clf.fit(X_train, y_train)\n",
    "t1 = time.time()\n",
    "\n",
    "print(\"Training took {:.2f}s\".format(t1 - t0))"
   ]
  },
  {
   "cell_type": "code",
   "execution_count": 76,
   "id": "011e3798",
   "metadata": {},
   "outputs": [
    {
     "data": {
      "text/plain": [
       "0.9705"
      ]
     },
     "execution_count": 76,
     "metadata": {},
     "output_type": "execute_result"
    }
   ],
   "source": [
    "from sklearn.metrics import accuracy_score\n",
    "\n",
    "y_pred = rnd_clf.predict(X_test)\n",
    "accuracy_score(y_test, y_pred)"
   ]
  },
  {
   "cell_type": "code",
   "execution_count": 77,
   "id": "4189077c",
   "metadata": {},
   "outputs": [],
   "source": [
    "from sklearn.decomposition import PCA\n",
    "\n",
    "pca = PCA(n_components=0.95)\n",
    "X_train_reduced = pca.fit_transform(X_train)"
   ]
  },
  {
   "cell_type": "code",
   "execution_count": 78,
   "id": "882309da",
   "metadata": {},
   "outputs": [
    {
     "name": "stdout",
     "output_type": "stream",
     "text": [
      "Training took 322.22s\n"
     ]
    }
   ],
   "source": [
    "rnd_clf2 = RandomForestClassifier(n_estimators=100, random_state=42)\n",
    "t0 = time.time()\n",
    "rnd_clf2.fit(X_train_reduced, y_train)\n",
    "t1 = time.time()\n",
    "\n",
    "print(\"Training took {:.2f}s\".format(t1 - t0)) # 느려짐"
   ]
  },
  {
   "cell_type": "code",
   "execution_count": 79,
   "id": "af4f7ae1",
   "metadata": {},
   "outputs": [
    {
     "data": {
      "text/plain": [
       "0.9481"
      ]
     },
     "execution_count": 79,
     "metadata": {},
     "output_type": "execute_result"
    }
   ],
   "source": [
    "X_test_reduced = pca.transform(X_test)\n",
    "\n",
    "y_pred = rnd_clf2.predict(X_test_reduced)\n",
    "accuracy_score(y_test, y_pred)"
   ]
  },
  {
   "cell_type": "code",
   "execution_count": 80,
   "id": "56baf80d",
   "metadata": {},
   "outputs": [
    {
     "name": "stderr",
     "output_type": "stream",
     "text": [
      "C:\\Users\\knuyh\\anaconda3\\Lib\\site-packages\\sklearn\\linear_model\\_logistic.py:460: ConvergenceWarning: lbfgs failed to converge (status=1):\n",
      "STOP: TOTAL NO. of ITERATIONS REACHED LIMIT.\n",
      "\n",
      "Increase the number of iterations (max_iter) or scale the data as shown in:\n",
      "    https://scikit-learn.org/stable/modules/preprocessing.html\n",
      "Please also refer to the documentation for alternative solver options:\n",
      "    https://scikit-learn.org/stable/modules/linear_model.html#logistic-regression\n",
      "  n_iter_i = _check_optimize_result(\n"
     ]
    }
   ],
   "source": [
    "from sklearn.linear_model import LogisticRegression\n",
    "\n",
    "log_clf = LogisticRegression(multi_class=\"multinomial\", solver=\"lbfgs\", random_state=42)\n",
    "t0 = time.time()\n",
    "log_clf.fit(X_train, y_train)\n",
    "t1 = time.time()"
   ]
  },
  {
   "cell_type": "code",
   "execution_count": 81,
   "id": "846aa249",
   "metadata": {},
   "outputs": [
    {
     "name": "stdout",
     "output_type": "stream",
     "text": [
      "Training took 11.02s\n"
     ]
    }
   ],
   "source": [
    "print(\"Training took {:.2f}s\".format(t1 - t0))"
   ]
  },
  {
   "cell_type": "code",
   "execution_count": 82,
   "id": "c196e8d6",
   "metadata": {},
   "outputs": [
    {
     "data": {
      "text/plain": [
       "0.9255"
      ]
     },
     "execution_count": 82,
     "metadata": {},
     "output_type": "execute_result"
    }
   ],
   "source": [
    "y_pred = log_clf.predict(X_test)\n",
    "accuracy_score(y_test, y_pred)"
   ]
  },
  {
   "cell_type": "code",
   "execution_count": 84,
   "id": "0f2009b7",
   "metadata": {},
   "outputs": [
    {
     "name": "stdout",
     "output_type": "stream",
     "text": [
      "Training took 3.57s\n"
     ]
    },
    {
     "name": "stderr",
     "output_type": "stream",
     "text": [
      "C:\\Users\\knuyh\\anaconda3\\Lib\\site-packages\\sklearn\\linear_model\\_logistic.py:460: ConvergenceWarning: lbfgs failed to converge (status=1):\n",
      "STOP: TOTAL NO. of ITERATIONS REACHED LIMIT.\n",
      "\n",
      "Increase the number of iterations (max_iter) or scale the data as shown in:\n",
      "    https://scikit-learn.org/stable/modules/preprocessing.html\n",
      "Please also refer to the documentation for alternative solver options:\n",
      "    https://scikit-learn.org/stable/modules/linear_model.html#logistic-regression\n",
      "  n_iter_i = _check_optimize_result(\n"
     ]
    }
   ],
   "source": [
    "log_clf2 = LogisticRegression(multi_class=\"multinomial\", solver=\"lbfgs\", random_state=42)\n",
    "t0 = time.time()\n",
    "log_clf2.fit(X_train_reduced, y_train)\n",
    "t1 = time.time()\n",
    "print(\"Training took {:.2f}s\".format(t1 - t0))"
   ]
  },
  {
   "cell_type": "code",
   "execution_count": 85,
   "id": "d4a85239",
   "metadata": {},
   "outputs": [
    {
     "data": {
      "text/plain": [
       "0.9201"
      ]
     },
     "execution_count": 85,
     "metadata": {},
     "output_type": "execute_result"
    }
   ],
   "source": [
    "y_pred = log_clf2.predict(X_test_reduced)\n",
    "accuracy_score(y_test, y_pred)"
   ]
  }
 ],
 "metadata": {
  "kernelspec": {
   "display_name": "Python 3 (ipykernel)",
   "language": "python",
   "name": "python3"
  },
  "language_info": {
   "codemirror_mode": {
    "name": "ipython",
    "version": 3
   },
   "file_extension": ".py",
   "mimetype": "text/x-python",
   "name": "python",
   "nbconvert_exporter": "python",
   "pygments_lexer": "ipython3",
   "version": "3.11.4"
  }
 },
 "nbformat": 4,
 "nbformat_minor": 5
}
